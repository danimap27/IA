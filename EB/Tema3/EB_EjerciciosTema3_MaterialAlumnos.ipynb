{
 "cells": [
  {
   "cell_type": "markdown",
   "metadata": {
    "id": "jlYT5sseBv8P"
   },
   "source": [
    "# INTELIGENCIA ARTIFICIAL: EB Ejercicios Tema 3: REGRESIÓN LINEAL \n",
    "## EJERCICIO: ¿Cómo evaluar modelos de machine learning?\n",
    "**Evaluar** el modelo de regresión lineal obtenido en la EPD 2.1 para predecir los beneficios de un restaurante según la población de la ciudad. Use diferentes métodos de evaluación y compare los resultados."
   ]
  },
  {
   "cell_type": "code",
   "execution_count": 1,
   "metadata": {
    "id": "BIdDs76SCwhC"
   },
   "outputs": [],
   "source": [
    "import pandas as pd\n",
    "import numpy as np\n",
    "import matplotlib.pyplot as plt"
   ]
  },
  {
   "cell_type": "code",
   "execution_count": 2,
   "metadata": {
    "id": "BgHF5szVxp6X"
   },
   "outputs": [],
   "source": [
    "# Para Ejercicio de Evaluación usando Holdout\n",
    "from random import randrange\n",
    "from sklearn.model_selection import train_test_split\n",
    "from sklearn import metrics"
   ]
  },
  {
   "cell_type": "code",
   "execution_count": 3,
   "metadata": {
    "id": "y8c_96kaO_Me"
   },
   "outputs": [],
   "source": [
    "# Para Ejercicio de Evaluación usando Cross Validation\n",
    "from random import randrange\n",
    "from sklearn.model_selection import KFold\n",
    "from sklearn import metrics"
   ]
  },
  {
   "cell_type": "markdown",
   "metadata": {
    "id": "XuTPohgbvfNx"
   },
   "source": [
    "## A) EJERCICIO BASE "
   ]
  },
  {
   "cell_type": "markdown",
   "metadata": {
    "id": "3ehPrbDKB004"
   },
   "source": [
    "### 1) Cargar los datos de entrada\n",
    "Los datos están almacenados en el fichero ex1data1.txt."
   ]
  },
  {
   "cell_type": "code",
   "execution_count": 4,
   "metadata": {
    "id": "1BFRPFABB3v9"
   },
   "outputs": [],
   "source": [
    "def read_file(file_name):\n",
    "    # Reading file with data\n",
    "    print('Loading Data ...', file_name)\n",
    "    file = pd.read_csv(file_name, names=[\"poblacion\",\"beneficio\"])\n",
    "    X = pd.DataFrame({'poblacion': file['poblacion']})\n",
    "    y = pd.DataFrame({'beneficio': file['beneficio']})\n",
    "\n",
    "    return X, y"
   ]
  },
  {
   "cell_type": "code",
   "execution_count": 5,
   "metadata": {
    "colab": {
     "base_uri": "https://localhost:8080/"
    },
    "id": "9SfbVq9nCogW",
    "outputId": "ec8e027c-7de8-4759-ac98-a7ee86f937d3"
   },
   "outputs": [
    {
     "name": "stdout",
     "output_type": "stream",
     "text": [
      "Loading Data ... ex1data1.txt\n"
     ]
    }
   ],
   "source": [
    "X, y = read_file('ex1data1.txt')"
   ]
  },
  {
   "cell_type": "markdown",
   "metadata": {
    "id": "3WDVle__DF5P"
   },
   "source": [
    "#### 1.1) Visualizar los datos\n",
    "Visualizar las dimensiones de la matriz de atributos, del vector clase y las primeras 5 filas de los atributos junto a su clase. \n",
    "En el caso de la regresión lineal univariable, representar en una gráfica el atributo de entrada y la clase."
   ]
  },
  {
   "cell_type": "code",
   "execution_count": 6,
   "metadata": {
    "id": "-3moWvoJDJn2"
   },
   "outputs": [],
   "source": [
    "def plotData(X, y):\n",
    "    plt.scatter(X,y, marker = \"x\", c = \"red\")\n",
    "    plt.xlabel(\"Population of City in 10,000\")\n",
    "    plt.ylabel(\"Profit in $10,000\")\n",
    "    plt.xticks(np.arange(5, 26, 5), rotation=45) \n",
    "    plt.yticks(np.arange(-5, 26, 5), rotation=45)\n",
    "    plt.xlim(5,25) # Estamos limitando el eje x. Si los datos cambian, probablemente habrá que modificar estos valores\n",
    "    plt.ylim(-5,25) # Estamos limitando el eje y. Si los datos cambian, probablemente habrá que modificar estos valores\n",
    "    plt.show()"
   ]
  },
  {
   "cell_type": "code",
   "execution_count": 7,
   "metadata": {
    "colab": {
     "base_uri": "https://localhost:8080/",
     "height": 428
    },
    "id": "x0GvkO4BDhVw",
    "outputId": "329c2256-676a-4071-cc15-60ed43cf2598"
   },
   "outputs": [
    {
     "name": "stdout",
     "output_type": "stream",
     "text": [
      "El tamaño de X es:  97  filas y  1  columna(s)  (97, 1)\n",
      "La longitud del vector y es:  97 (97, 1)\n",
      "Las 5 primeras filas de los datos son: [atributo entrada X1 | clase y]\n",
      "\t 6.1101  |  17.592\n",
      "\t 5.5277  |  9.1302\n",
      "\t 8.5186  |  13.662\n",
      "\t 7.0032  |  11.854\n",
      "\t 5.8598  |  6.8233\n"
     ]
    },
    {
     "data": {
      "image/png": "[encoded data removed]",
      "text/plain": [
       "<Figure size 640x480 with 1 Axes>"
      ]
     },
     "metadata": {},
     "output_type": "display_data"
    }
   ],
   "source": [
    "print(\"El tamaño de X es: \", X.shape[0], \" filas y \", X.shape[1], \" columna(s) \", X.shape)\n",
    "print(\"La longitud del vector y es: \", len(y), y.shape)\n",
    "\n",
    "print(\"Las 5 primeras filas de los datos son: [atributo entrada X1 | clase y]\")\n",
    "for i in range(0,5):\n",
    "  print(\"\\t\", X['poblacion'][i],  \" | \", y['beneficio'][i]) \n",
    "# Recordar: X[:5] selecciona las 5 primeras filas de X.\n",
    "\n",
    "plotData(X, y)"
   ]
  },
  {
   "cell_type": "markdown",
   "metadata": {
    "id": "5PDJ42J5FuwJ"
   },
   "source": [
    "### 2) Hipótesis y función coste\n",
    "La hipótesis del modelo de regresión lineal univariable es: \n",
    "\\begin{equation}\n",
    "h_{\\theta}(x)=\\theta_0 + \\theta_1 \\cdot x \\quad \\mbox{ ó  } \\quad h_{\\theta}(x)=\\theta^T \\cdot x\n",
    "\\end{equation}\n",
    "Si queremos representar $X$ como la matriz/dataframe con todos los datos de entrada, la hipótesis es equivalente a: \n",
    "\\begin{equation}\n",
    "h_{\\theta}=X \\cdot \\theta\n",
    "\\end{equation}\n",
    "donde: \n",
    "*  $X$ contiene todas las filas y atributos del conjunto de training (sin incluir la clase).\n",
    "*  $\\theta$ es un vector columna de longitud: el número de atributos del conjunto de training (sin incluir la clase) + 1 ($\\theta_0$ ).\n",
    "\n",
    "El objetivo de la regresión lineal es minimizar el coste de la función. Si la función coste es el error cuadrático:\n",
    "\\begin{equation}\n",
    "J(\\theta)=\\frac{1}{2 \\cdot m}\\sum_{i=1}^{m} (h_{\\theta}-y)^2 = \\frac{1}{2 \\cdot m}\\sum (X \\cdot \\theta-y)^2\n",
    "\\end{equation}"
   ]
  },
  {
   "cell_type": "code",
   "execution_count": 43,
   "metadata": {
    "id": "LT2k42QsHdjH"
   },
   "outputs": [],
   "source": [
    "def computeCost(X, y, theta):\n",
    "\n",
    "    m = len(y) # Numero de instancias en el training\n",
    "    h = np.dot(X, theta) # Hipótesis del modelo de regresión lineal \n",
    "    J = ((np.sum(np.power((h - y),2), axis=0))/(2*m)) # Coste\n",
    "  \n",
    "    return J"
   ]
  },
  {
   "cell_type": "markdown",
   "metadata": {
    "id": "N8OEMxo7HcjM"
   },
   "source": [
    "#### 2.1) Añadir $x_0$\n",
    "x0 se añade como primera columna a X con todos sus elementos a 1. Esta operación se realiza para poder calcular la hipótesis h que viene dada por el modelo lineal"
   ]
  },
  {
   "cell_type": "code",
   "execution_count": 44,
   "metadata": {
    "id": "ZtX1CLX9FiEN"
   },
   "outputs": [],
   "source": [
    "ones = np.ones((len(y), 1)) # Crear un array de 1\n",
    "X['uno'] = ones # Añadir a X # Es lo mismo que X['uno'] = 1\n",
    "X = X[['uno', 'poblacion']]  # Poner 'uno' como primera columna"
   ]
  },
  {
   "cell_type": "markdown",
   "metadata": {
    "id": "VA6Oo9qVJw6S"
   },
   "source": [
    "#### 2.2) Inicializar $\\theta$"
   ]
  },
  {
   "cell_type": "code",
   "execution_count": 45,
   "metadata": {
    "id": "sszlM4QCHTvh"
   },
   "outputs": [],
   "source": [
    "num_atributos = X.shape[1] # Si esta operación la hacemos antes de añadir la columna de 1 a X, debemos poner X.shape[1]+1\n",
    "theta = np.zeros((num_atributos,1), dtype=np.float64)"
   ]
  },
  {
   "cell_type": "markdown",
   "metadata": {
    "id": "EiuNxpcgKuW0"
   },
   "source": [
    "Ejecutamos la función coste"
   ]
  },
  {
   "cell_type": "code",
   "execution_count": 46,
   "metadata": {
    "colab": {
     "base_uri": "https://localhost:8080/"
    },
    "id": "UJsEtuotKVX7",
    "outputId": "fc512ae2-7d7c-4c76-c0a3-78427e59e716"
   },
   "outputs": [
    {
     "name": "stdout",
     "output_type": "stream",
     "text": [
      "\n",
      "El coste inicializando theta a 0 debe ser aproximadamente 32.072734:  beneficio    32.072734\n",
      "dtype: float64\n",
      "\n",
      "El coste probando con theta0=-1 y theta1=2 es:  beneficio    54.242455\n",
      "dtype: float64\n"
     ]
    }
   ],
   "source": [
    "J_base = computeCost(X, y, theta)\n",
    "print(\"\\nEl coste inicializando theta a 0 debe ser aproximadamente 32.072734: \", J_base)\n",
    "\n",
    "# Si queremos probar con otros valores de theta: \n",
    "J_prueba = computeCost(X, y, [[-1], [2]]) # Lo mismo que: computeCost(X, y, np.array([[-1],[2]]))\n",
    "print(\"\\nEl coste probando con theta0=-1 y theta1=2 es: \", J_prueba)"
   ]
  },
  {
   "cell_type": "markdown",
   "metadata": {
    "id": "-W9O5P-HLQcN"
   },
   "source": [
    "### 3) Descenso del Gradiente\n",
    "El método de descenso del gradiente se implementa en una función que recibe como parámetro, además de los datos X e y, los parámetros theta, alpha y el número de iteraciones. Estos dos últimos se pueden inicializar a 0.01 y 1500 respectivamente. Si la función coste es el error cuadrático, en cada iteración del descenso del gradiente se calcula:  \n",
    "\\begin{equation}\n",
    "\\theta=\\theta - \\alpha \\frac{1}{m} (X^T \\cdot (X \\cdot \\theta - y))\n",
    "\\end{equation}\n",
    "\n",
    "La función deberá devolver los parámetros theta finales y un histórico con el coste en cada iteración que se debe visualizar. Mostrar por pantalla los valores de theta finales.\n"
   ]
  },
  {
   "cell_type": "code",
   "execution_count": 47,
   "metadata": {
    "id": "tzGcX-WdKD5y"
   },
   "outputs": [],
   "source": [
    "def gradientDescent(X, y, theta, alpha, iterations):\n",
    "\n",
    "    m = len(y) # Numero de instancias en el training\n",
    "    current_iter = [] # Lista vacía para crear el histórico en un dataframe\n",
    "    current_cost = [] # Lista vacía para crear el histórico en un dataframe\n",
    "\n",
    "    for iter in range(iterations):\n",
    "        h = np.dot(X,theta) # Hipótesis\n",
    "        theta = theta - alpha*(1/m)*(np.dot(X.T,(h-y)))\n",
    "\n",
    "        # Guardar el coste J de cada iteración\n",
    "        current_iter.append(iter) # Añadir la iteración a una lista\n",
    "        current_cost.append(computeCost(X, y, theta)) # Añadir el coste a una lista\n",
    "\n",
    "    J_history = pd.DataFrame({'iteracion': current_iter, 'coste': current_cost}) # Crear el dataframe histórico iteracion-coste\n",
    "\n",
    "    return theta, J_history # Último theta encontrado y dataframe histórico J_history"
   ]
  },
  {
   "cell_type": "markdown",
   "metadata": {
    "id": "9l7cNI-ANj9B"
   },
   "source": [
    "#### 3.1) Visualizar el histórico coste-iteración"
   ]
  },
  {
   "cell_type": "code",
   "execution_count": 48,
   "metadata": {
    "id": "PUt5oSIJNUQo"
   },
   "outputs": [],
   "source": [
    "def plotIterationsVsCost(J_history, alpha, iteraciones):\n",
    "    plt.plot(J_history['iteracion'], J_history['coste'])\n",
    "    plt.xlabel('Iteraciones')\n",
    "    plt.ylabel('Coste')\n",
    "    plt.title('Descenso del gradiente con alpha: '+str(alpha)+' y '+str(iteraciones)+' iteraciones')\n",
    "    plt.show()"
   ]
  },
  {
   "cell_type": "markdown",
   "metadata": {
    "id": "t0smHhzhzNfv"
   },
   "source": [
    "#### 3.2) Visualizar el óptimo encontrado para el modelo con curvas de nivel"
   ]
  },
  {
   "cell_type": "code",
   "execution_count": 49,
   "metadata": {
    "id": "RrFY0hjs1ET1"
   },
   "outputs": [],
   "source": [
    "def plotData_cost(X, y, theta):\n",
    "\n",
    "    # Grid sobre el que vamos a calcular J\n",
    "    theta0_vals = np.linspace(-10, 10, 100)\n",
    "    theta1_vals = np.linspace(-1, 4, 100)\n",
    "\n",
    "    # Inicializar J_vals a una matriz de ceros\n",
    "    J_vals = np.zeros((len(theta0_vals), len(theta1_vals)))\n",
    "\n",
    "    # Rellenar J_vals\n",
    "    for i in range(1, len(theta0_vals)):\n",
    "        for j in range(1, len(theta1_vals)):\n",
    "            theta_ij = [[theta0_vals[i]], [theta1_vals[j]]]\n",
    "            J_vals[i][j] = computeCost(X, y, theta_ij)\n",
    "\n",
    "    # Debido a la forma en la que las mallas funcionan en el comando contour, \n",
    "    # debemos transponer J_vals antes de llamar a dicha función\n",
    "    J_vals = J_vals.T\n",
    "\n",
    "    fig1, ax = plt.subplots(1,1)\n",
    "    contour = ax.contour(theta0_vals, theta1_vals, J_vals, np.logspace(-2, 3, 20))\n",
    "    fig1.colorbar(contour)\n",
    "    plt.xlabel(\"theta_0\")\n",
    "    plt.ylabel(\"theta_1\")\n",
    "    plt.plot(theta[0], theta[1], marker = 'x', c='red')\n",
    "    plt.show()"
   ]
  },
  {
   "cell_type": "markdown",
   "metadata": {
    "id": "fX1myh4QzRyd"
   },
   "source": [
    "#### 3.3) Visualizar gráficamente el modelo obtenido"
   ]
  },
  {
   "cell_type": "code",
   "execution_count": 50,
   "metadata": {
    "id": "SUpOzmur2CKT"
   },
   "outputs": [],
   "source": [
    "def plotData_linearRegression(X, y, theta):\n",
    "    plt.scatter(X['poblacion'],y, marker=\"x\", c=\"red\", label=\"Training data\") # Representación del conjunto de datos\n",
    "    plt.plot(X['poblacion'], np.dot(X, theta), c='blue', label=\"Linear regression\") # Representación de la recta: h = X·theta\n",
    "    plt.xlabel(\"Population of City in 10,000\")\n",
    "    plt.ylabel(\"Profit in $10,000\")\n",
    "    plt.xlim(5, 25) # Cuidado: estamos limitando el eje X \n",
    "    plt.ylim(-5, 25) # Cuidado: estamos limitando el eje y\n",
    "    plt.legend()\n",
    "    plt.show()"
   ]
  },
  {
   "cell_type": "markdown",
   "metadata": {
    "id": "aRoJoUi5OE2C"
   },
   "source": [
    "## B) EJERCICIO DE EVALUACIÓN USANDO HOLDOUT\n",
    "Se divide el dataset en 70% para entrenamiento y 30% para test usando una de las funciones holdout suministradas. La función deberá devolver: X_training, y_training, X_test e y_test.\n",
    "Después, obtener el modelo de regresión lineal usando el descenso del gradiente con el conjunto de entrenamiento (training) para alpha=0.01 y 1500 iteraciones. Visualizar la función coste J a través de las iteraciones. Visualizar el modelo obtenido (si es regresión lineal univariable).\n",
    "Por último, predecir el conjunto de test y calcular el error."
   ]
  },
  {
   "cell_type": "markdown",
   "metadata": {
    "id": "vesiK2BMxfr9"
   },
   "source": [
    "### 1) Cargar los datos de entrada diviendo el dataset en 70-30 mediante holdout."
   ]
  },
  {
   "cell_type": "code",
   "execution_count": 51,
   "metadata": {
    "id": "LB9Mf1JHQMt8"
   },
   "outputs": [],
   "source": [
    "# OPCION 1\n",
    "def holdout_opcion1(X, y, percentage=0.6):\n",
    "  index_training = [] # Lista vacía con los indices del training\n",
    "  while len(index_training) < round(percentage*len(X)): # Mientras el número de elementos en la lista de índices del training sea menor del que debe ser:\n",
    "    random_index = randrange(len(X)) # indices random dentro del rango de X\n",
    "    if random_index not in index_training: # si el indice random no esta en la lista de indices del training\n",
    "      index_training.append(random_index) # Añado el indice random a los indices que formarán parte del training\n",
    "\n",
    "  # Una vez tenemos en index_training los índices que formaran parte del conjunto de training:\n",
    "  X_training = X.iloc[index_training]\n",
    "  y_training = y.iloc[index_training]\n",
    "  X_test = X.iloc[~X.index.isin(index_training)] # ~ significa NOT\n",
    "  y_test = y.iloc[~y.index.isin(index_training)] # ~ significa NOT\n",
    "  print(\"El tamaño del training debe ser: \", round(percentage*len(X)), \" - Comprobación: tamaño X_training es \", len(X_training), \" y tamaño y_training es\", len(y_training))\n",
    "  print(\"El tamaño del test debe ser: \", len(X)-round(percentage*len(X)), \" - Comprobación: tamaño X_test es \", len(X_test), \" y tamaño y_test es\", len(y_test))\n",
    "  \n",
    "  # Reseteamos los índices de todos los conjuntos\n",
    "  X_training = X_training.reset_index(drop=True)\n",
    "  y_training = y_training.reset_index(drop=True)\n",
    "  X_test = X_test.reset_index(drop=True)\n",
    "  y_test = y_test.reset_index(drop=True)\n",
    "  \n",
    "  return X_training, y_training, X_test, y_test\n",
    "\n",
    "# OPCION 2\n",
    "def holdout_opcion2(X, y, percentage=0.6):\n",
    "  X_training = X.sample(round(percentage*len(X))) # Selecciona aleatoriamente el numero de filas indicado\n",
    "  y_training = y.iloc[X_training.index] # Selecciona las filas del X_training\n",
    "  X_test = X.iloc[~X.index.isin(X_training.index)] # ~ significa NOT\n",
    "  y_test = y.iloc[~X.index.isin(X_training.index)] # ~ significa NOT\n",
    "\n",
    "  print(\"El tamaño del training debe ser: \", round(percentage*len(X)), \" - Comprobación: tamaño X_training es \", len(X_training), \" y tamaño y_training es\", len(y_training))\n",
    "  print(\"El tamaño del test debe ser: \", len(X)-round(percentage*len(X)), \" - Comprobación: tamaño X_test es \", len(X_test), \" y tamaño y_test es\", len(y_test))\n",
    "\n",
    "  # Reseteamos los índices de todos los conjuntos\n",
    "  X_training = X_training.reset_index(drop=True)\n",
    "  y_training = y_training.reset_index(drop=True)\n",
    "  X_test = X_test.reset_index(drop=True)\n",
    "  y_test = y_test.reset_index(drop=True)\n",
    "  \n",
    "  return X_training, y_training, X_test, y_test\n",
    "\n",
    "# OPCION 3\n",
    "def holdout_opcion3(X, y, percentage=0.6):\n",
    "  X_training, X_test, y_training, y_test = train_test_split(X,y, test_size=1-percentage, random_state=1) # Cuidado con el orden de la salida\n",
    "  # random_state: controla el barajado aplicado a los datos antes de aplicar la división. Si le pasamos un int, la salida se reproducirá siempre que llamemos a la función\n",
    "  \n",
    "  print(\"El tamaño del training debe ser: \", round(percentage*len(X)), \" - Comprobación: tamaño X_training es \", len(X_training), \" y tamaño y_training es\", len(y_training))\n",
    "  print(\"El tamaño del test debe ser: \", len(X)-round(percentage*len(X)), \" - Comprobación: tamaño X_test es \", len(X_test), \" y tamaño y_test es\", len(y_test))\n",
    "  \n",
    "  # Reseteamos los índices de todos los conjuntos\n",
    "  X_training = X_training.reset_index(drop=True)\n",
    "  y_training = y_training.reset_index(drop=True)\n",
    "  X_test = X_test.reset_index(drop=True)\n",
    "  y_test = y_test.reset_index(drop=True)\n",
    "\n",
    "  return X_training, y_training, X_test, y_test"
   ]
  },
  {
   "cell_type": "code",
   "execution_count": 52,
   "metadata": {
    "colab": {
     "base_uri": "https://localhost:8080/"
    },
    "id": "nP-iWpPwQVUs",
    "outputId": "ad5564c6-194b-4cff-a30d-cc7f3aba3b84"
   },
   "outputs": [
    {
     "name": "stdout",
     "output_type": "stream",
     "text": [
      "El tamaño del training debe ser:  68  - Comprobación: tamaño X_training es  68  y tamaño y_training es 68\n",
      "El tamaño del test debe ser:  29  - Comprobación: tamaño X_test es  29  y tamaño y_test es 29\n"
     ]
    }
   ],
   "source": [
    "# Importante: Cargar el dataset X, y si no lo tienes ya cargado.\n",
    "\n",
    "X_training, y_training, X_test, y_test = holdout_opcion1(X, y, 0.7)\n",
    "#X_training, y_training, X_test, y_test = holdout_opcion2(X, y, 0.7)\n",
    "#X_training, y_training, X_test, y_test = holdout_opcion3(X, y, 0.7)"
   ]
  },
  {
   "cell_type": "markdown",
   "metadata": {
    "id": "0YrX6VkrzZMy"
   },
   "source": [
    "### 2) Hipótesis y función coste"
   ]
  },
  {
   "cell_type": "markdown",
   "metadata": {
    "id": "qsfqYOff0Xw8"
   },
   "source": [
    "#### 2.1) Añadir $x_0$"
   ]
  },
  {
   "cell_type": "code",
   "execution_count": 53,
   "metadata": {
    "id": "1lsBvnq60caX"
   },
   "outputs": [],
   "source": [
    "# COMPLETAR\n",
    "# Incluir x0 (antes o después de cargar el dataset X, y). \n",
    "# Tanto X_training como X_test deben incluir una columna (será x0) con todos los elementos a 1."
   ]
  },
  {
   "cell_type": "markdown",
   "metadata": {
    "id": "lC2E2bRj0aqt"
   },
   "source": [
    "#### 2.2) Inicializar $\\theta$"
   ]
  },
  {
   "cell_type": "code",
   "execution_count": 54,
   "metadata": {
    "id": "2GSsS787zXoe"
   },
   "outputs": [],
   "source": [
    "# COMPLETAR\n",
    "\n",
    "theta = np.zeros((X.shape[1],1), dtype=np.float64)"
   ]
  },
  {
   "cell_type": "markdown",
   "metadata": {
    "id": "A8W-B-7k0nYh"
   },
   "source": [
    "### 3) Descenso del Gradiente"
   ]
  },
  {
   "cell_type": "code",
   "execution_count": 55,
   "metadata": {
    "id": "jAKbxvxFDvmL",
    "scrolled": true
   },
   "outputs": [
    {
     "name": "stdout",
     "output_type": "stream",
     "text": [
      "Theta encontrado con el descenso del gradiente: \n",
      " [[-3.65121077]\n",
      " [ 1.16231915]]\n",
      "\n",
      "Coste alcanzado en la última iteración :  1499    beneficio    4.594564\n",
      "dtype: float64\n",
      "Name: coste, dtype: object\n"
     ]
    }
   ],
   "source": [
    "# COMPLETAR \n",
    "iterations = 1500\n",
    "alpha = 0.01\n",
    "theta_optimo_holdout, J_history_holdout = gradientDescent(X_training, y_training, theta, alpha, iterations)\n",
    "\n",
    "print('Theta encontrado con el descenso del gradiente: \\n', theta_optimo_holdout)\n",
    "print('\\nCoste alcanzado en la última iteración : ', J_history_holdout[J_history_holdout['iteracion']==iterations-1]['coste']) "
   ]
  },
  {
   "cell_type": "markdown",
   "metadata": {
    "id": "0rzJ_AqZ0_LL"
   },
   "source": [
    "#### 3.1) Visualizar el histórico coste-iteración\n",
    "¿Ha encontrado el óptimo el descenso del gradiente?"
   ]
  },
  {
   "cell_type": "code",
   "execution_count": 57,
   "metadata": {
    "id": "oni9fv8Y03FV"
   },
   "outputs": [
    {
     "name": "stderr",
     "output_type": "stream",
     "text": [
      "C:\\Users\\danit\\anaconda3\\envs\\quantum-env\\lib\\site-packages\\matplotlib\\cbook.py:1762: FutureWarning: Calling float on a single element Series is deprecated and will raise a TypeError in the future. Use float(ser.iloc[0]) instead\n",
      "  return math.isfinite(val)\n",
      "C:\\Users\\danit\\anaconda3\\envs\\quantum-env\\lib\\site-packages\\matplotlib\\cbook.py:1398: FutureWarning: Calling float on a single element Series is deprecated and will raise a TypeError in the future. Use float(ser.iloc[0]) instead\n",
      "  return np.asarray(x, float)\n"
     ]
    },
    {
     "data": {
      "image/png": "[encoded data removed]",
      "text/plain": [
       "<Figure size 640x480 with 1 Axes>"
      ]
     },
     "metadata": {},
     "output_type": "display_data"
    }
   ],
   "source": [
    "# COMPLETAR \n",
    "plotIterationsVsCost(J_history_holdout, alpha, iterations)"
   ]
  },
  {
   "cell_type": "markdown",
   "metadata": {
    "id": "RG5-qOHe1P0N"
   },
   "source": [
    "#### 3.2) Visualizar el óptimo encontrado para el modelo con curvas de nivel"
   ]
  },
  {
   "cell_type": "code",
   "execution_count": 58,
   "metadata": {
    "id": "VLds6wVS183j"
   },
   "outputs": [
    {
     "name": "stderr",
     "output_type": "stream",
     "text": [
      "C:\\Users\\danit\\AppData\\Local\\Temp\\ipykernel_29052\\1729150599.py:14: FutureWarning: Calling float on a single element Series is deprecated and will raise a TypeError in the future. Use float(ser.iloc[0]) instead\n",
      "  J_vals[i][j] = computeCost(X, y, theta_ij)\n"
     ]
    },
    {
     "data": {
      "image/png": "[encoded data removed]",
      "text/plain": [
       "<Figure size 640x480 with 2 Axes>"
      ]
     },
     "metadata": {},
     "output_type": "display_data"
    }
   ],
   "source": [
    "# COMPLETAR\n",
    "plotData_cost(X_training, y_training, theta_optimo_holdout)"
   ]
  },
  {
   "cell_type": "markdown",
   "metadata": {
    "id": "Bx53mVm93GtG"
   },
   "source": [
    "#### 3.3) Visualizar gráficamente el modelo obtenido"
   ]
  },
  {
   "cell_type": "code",
   "execution_count": 59,
   "metadata": {
    "id": "CCubWsJy3Raj"
   },
   "outputs": [
    {
     "data": {
      "image/png": "[encoded data removed]",
      "text/plain": [
       "<Figure size 640x480 with 1 Axes>"
      ]
     },
     "metadata": {},
     "output_type": "display_data"
    }
   ],
   "source": [
    "# COMPLETAR \n",
    "plotData_linearRegression(X_training, y_training, theta_optimo_holdout)"
   ]
  },
  {
   "cell_type": "markdown",
   "metadata": {
    "id": "LZUCCSO83Qbr"
   },
   "source": [
    "#### 3.4) Predecir el conjunto de test usando el modelo aprendido con el conjunto de training. Calcular el error MAE y MSE.\n",
    "Las métricas que usaremos están en la EB T2 diap 39: \n",
    "\n",
    "\n",
    "*   Error absoluto medio (MAE): \n",
    "\\begin{equation}\n",
    "MAE =\\frac{1}{m}\\sum_{i=1}^{m} |y_i - \\widehat{y}_i|\n",
    "\\end{equation}\n",
    "*   Error cuadrático medio (MSE): \n",
    "\\begin{equation}\n",
    "MSE =\\frac{1}{m}\\sum_{i=1}^{m} (y_i - \\widehat{y}_i)^2 \n",
    "\\end{equation}\n",
    "\n"
   ]
  },
  {
   "cell_type": "code",
   "execution_count": 62,
   "metadata": {
    "id": "eQvMNYk73d8C"
   },
   "outputs": [],
   "source": [
    "# COMPLETAR\n",
    "# Predicción de todo el conjunto de test\n",
    "y_predicted = np.dot(X_test, theta_optimo_holdout) "
   ]
  },
  {
   "cell_type": "code",
   "execution_count": 71,
   "metadata": {
    "id": "w10dc8oRE21r"
   },
   "outputs": [
    {
     "name": "stdout",
     "output_type": "stream",
     "text": [
      "El error absoluto medio es:  beneficio    2.221975\n",
      "dtype: float64\n",
      "El error absoluto medio usando sklearn es:  2.2219745388087997\n",
      "\n",
      "\n",
      "El error cuadrático medio es:  beneficio    8.449365\n",
      "dtype: float64\n",
      "El error cuadrático medio usando sklearn es:  8.44936503327858\n"
     ]
    }
   ],
   "source": [
    "# COMPLETAR\n",
    "# Calcular los errores\n",
    "m = len(y_test)\n",
    "\n",
    "# MAE: \n",
    "error_absoluto_medio_holdout = (1/m)*np.sum(np.abs(y_test-y_predicted), axis=0)\n",
    "print(\"El error absoluto medio es: \", error_absoluto_medio_holdout)\n",
    "MAE_sklearn_holdout = metrics.mean_absolute_error(y_test, y_predicted)\n",
    "print(\"El error absoluto medio usando sklearn es: \", MAE_sklearn_holdout)\n",
    "\n",
    "# MSE: \n",
    "error_cuadratico_medio_holdout = (1/m)*np.sum(np.power(y_test-y_predicted,2), axis=0)\n",
    "print(\"\\n\\nEl error cuadrático medio es: \", error_cuadratico_medio_holdout)\n",
    "MSE_sklearn_holdout = metrics.mean_squared_error(y_test, y_predicted)\n",
    "print(\"El error cuadrático medio usando sklearn es: \", MSE_sklearn_holdout)"
   ]
  },
  {
   "cell_type": "markdown",
   "metadata": {
    "id": "BWxHdmHU-aEH"
   },
   "source": [
    "## C) EJERCICIO DE EVALUACIÓN USANDO CROSS-VALIDATION\n",
    "La evaluación mediante validación cruzada consiste en la división del conjunto de datos en K bolsas, haciendo que cada una de estas bolsas sea el conjunto de test mientras que las K-1 restantes sean el conjunto de entrenamiento. \n",
    "\n",
    "De esta forma, se calculan K modelos y el error que cada uno de ellos comete al predecir el conjunto de test correspondiente. \n",
    "\n",
    "La media de los K errores es el error que determina si la regresión lineal es un buen método de aprendizaje y la predicción de una instancia desconocida se estimaría con la media de la predicción obtenida por cada modelo. "
   ]
  },
  {
   "cell_type": "markdown",
   "metadata": {
    "id": "N7SDlNmtM16E"
   },
   "source": [
    "#### 1) Cargar los datos de entrada y dividirlo en los conjuntos de entrenamiento y test mediante validación cruzada.\n",
    "Usar una de las siguientes funciones para construir los índices que nos ayudarán a crear las diferentes bolsas en las que se dividirá el conjunto de datos."
   ]
  },
  {
   "cell_type": "code",
   "execution_count": 74,
   "metadata": {
    "id": "r2A6IOhjtJMs"
   },
   "outputs": [],
   "source": [
    "def cross_validation_opcion1(X, y, K):\n",
    "  tam_folds = round(len(X)/K) # Tamaño de cada bolsa considerando que creamos K bolsas\n",
    "  data_particiones = [] # Lista que devolveremos con los índices de cada bolsa\n",
    "  all_bolsa = [] # Lista de indices totales en el que vamos a añadir todos los índices que se van incluyendo en data_particiones para controlar que no se repiten\n",
    "  for i in range(K): # Para cada bolsa\n",
    "    fold = [] # Lista vacío con los indices de la bolsa, deberá tener tamaño tam_folds\n",
    "    while len(fold) < tam_folds:\n",
    "      random_index = randrange(len(X)) # indices random dentro del rango de X\n",
    "      if random_index not in all_bolsa: # si el indice random no esta en la lista de indices totales\n",
    "        fold.append(random_index) # Añado el indice random a los indices que formaran parte de la bolsa\n",
    "        all_bolsa.append(random_index) # Añado el indice random a la lista de indices totales\n",
    "    data_particiones.append(fold) # Cuando fold ya esté correctamente completado, antes de pasar a la siguiente bolsa, se añadirán todos esos índices a la lista que devolveremos\n",
    "  return data_particiones\n",
    "\n",
    "def cross_validation_opcion2(X, y, K):\n",
    "  cv = KFold(n_splits=K, random_state=None, shuffle=True) # random_state como anteriormente, shuffle = True: Se barajan los datos antes de divirlos en lotes\n",
    "  data_particiones_sk = [] # Lista vacía donde añadiremos los índices del test cada bolsa\n",
    "  for train_ix, test_ix in cv.split(X): # cv.split(X) genera índices para dividir los datos en training y test\n",
    "    data_particiones_sk.append(test_ix)\n",
    "  return data_particiones_sk"
   ]
  },
  {
   "cell_type": "code",
   "execution_count": 75,
   "metadata": {
    "id": "U85Dt970QeXe"
   },
   "outputs": [],
   "source": [
    "K = 5 # Número de particiones para cross-validation\n",
    "\n",
    "indices = cross_validation_opcion1(X,y,K) # indices serán los índices del conjunto de test\n",
    "#indices = cross_validation_opcion2(X,y,K) # indices serán los índices del conjunto de test"
   ]
  },
  {
   "cell_type": "markdown",
   "metadata": {
    "id": "0YlGULJli9g1"
   },
   "source": [
    "### 2) Hipótesis y función coste"
   ]
  },
  {
   "cell_type": "markdown",
   "metadata": {
    "id": "oxSQ6IgEjINb"
   },
   "source": [
    "#### 2.1) Añadir $x_0$"
   ]
  },
  {
   "cell_type": "code",
   "execution_count": null,
   "metadata": {
    "id": "q0u8EehUGP6Z"
   },
   "outputs": [],
   "source": [
    "# COMPLETAR"
   ]
  },
  {
   "cell_type": "markdown",
   "metadata": {
    "id": "EjjuJhqBjJ51"
   },
   "source": [
    "#### 2.2) Inicializar $\\theta$"
   ]
  },
  {
   "cell_type": "code",
   "execution_count": 72,
   "metadata": {
    "id": "i-y5V7d1jV5s"
   },
   "outputs": [],
   "source": [
    "# COMPLETAR\n",
    "theta = np.zeros((X.shape[1],1))"
   ]
  },
  {
   "cell_type": "markdown",
   "metadata": {
    "id": "4ecie7-FjMOF"
   },
   "source": [
    "### 3) Descenso del Gradiente considerando cross-validation\n",
    "Una vez creados los conjuntos, obtener el modelo y el error para cada uno de ellos. Para obtener el modelo, ejecutar el descenos del gradiente llamando a la función correspondiente con el conjunto de entrenamiento correspondiente."
   ]
  },
  {
   "cell_type": "code",
   "execution_count": 73,
   "metadata": {
    "id": "QqabJ5aQjSLz"
   },
   "outputs": [],
   "source": [
    "iterations = 1500 # Inicialización de alpha y número de iteraciones\n",
    "alpha = 0.01"
   ]
  },
  {
   "cell_type": "code",
   "execution_count": 81,
   "metadata": {
    "id": "4rIEHmJ-IOsG"
   },
   "outputs": [
    {
     "name": "stdout",
     "output_type": "stream",
     "text": [
      "\n",
      "BOLSA:  0\n",
      "El tamaño del training debe ser:  78  - Comprobación: tamaño X_training es  78  y tamaño y_training es 78\n",
      "El tamaño del test debe ser:  19  - Comprobación: tamaño X_test es  19  y tamaño y_test es 19\n",
      "\tTheta encontrado con el descenso del gradiente: \n",
      " [[-3.61053038]\n",
      " [ 1.18464809]]\n",
      "\n",
      "\tCoste alcanzado en la última iteración :  1499    beneficio    4.453768\n",
      "dtype: float64\n",
      "Name: coste, dtype: object\n",
      "\tEl error absoluto medio usando sklearn es:  2.6592472240844085\n",
      "\tEl error cuadrático medio usando sklearn es:  9.389788310570601\n",
      "--------------\n",
      "\n",
      "BOLSA:  1\n",
      "El tamaño del training debe ser:  78  - Comprobación: tamaño X_training es  78  y tamaño y_training es 78\n",
      "El tamaño del test debe ser:  19  - Comprobación: tamaño X_test es  19  y tamaño y_test es 19\n",
      "\tTheta encontrado con el descenso del gradiente: \n",
      " [[-3.30083843]\n",
      " [ 1.14428364]]\n",
      "\n",
      "\tCoste alcanzado en la última iteración :  1499    beneficio    4.568081\n",
      "dtype: float64\n",
      "Name: coste, dtype: object\n",
      "\tEl error absoluto medio usando sklearn es:  2.3372048763194635\n",
      "\tEl error cuadrático medio usando sklearn es:  8.584149521438233\n",
      "--------------\n",
      "\n",
      "BOLSA:  2\n",
      "El tamaño del training debe ser:  78  - Comprobación: tamaño X_training es  78  y tamaño y_training es 78\n",
      "El tamaño del test debe ser:  19  - Comprobación: tamaño X_test es  19  y tamaño y_test es 19\n",
      "\tTheta encontrado con el descenso del gradiente: \n",
      " [[-3.34720924]\n",
      " [ 1.14546533]]\n",
      "\n",
      "\tCoste alcanzado en la última iteración :  1499    beneficio    5.371771\n",
      "dtype: float64\n",
      "Name: coste, dtype: object\n",
      "\tEl error absoluto medio usando sklearn es:  1.1404308342233456\n",
      "\tEl error cuadrático medio usando sklearn es:  1.90977123619985\n",
      "--------------\n",
      "\n",
      "BOLSA:  3\n",
      "El tamaño del training debe ser:  78  - Comprobación: tamaño X_training es  78  y tamaño y_training es 78\n",
      "El tamaño del test debe ser:  19  - Comprobación: tamaño X_test es  19  y tamaño y_test es 19\n",
      "\tTheta encontrado con el descenso del gradiente: \n",
      " [[-3.40540228]\n",
      " [ 1.12068337]]\n",
      "\n",
      "\tCoste alcanzado en la última iteración :  1499    beneficio    4.862978\n",
      "dtype: float64\n",
      "Name: coste, dtype: object\n",
      "\tEl error absoluto medio usando sklearn es:  2.116230973676721\n",
      "\tEl error cuadrático medio usando sklearn es:  6.231751371956609\n",
      "--------------\n",
      "\n",
      "BOLSA:  4\n",
      "El tamaño del training debe ser:  78  - Comprobación: tamaño X_training es  78  y tamaño y_training es 78\n",
      "El tamaño del test debe ser:  19  - Comprobación: tamaño X_test es  19  y tamaño y_test es 19\n",
      "\tTheta encontrado con el descenso del gradiente: \n",
      " [[-4.22289178]\n",
      " [ 1.22300371]]\n",
      "\n",
      "\tCoste alcanzado en la última iteración :  1499    beneficio    3.403417\n",
      "dtype: float64\n",
      "Name: coste, dtype: object\n",
      "\tEl error absoluto medio usando sklearn es:  2.612767493769288\n",
      "\tEl error cuadrático medio usando sklearn es:  17.871150185447572\n",
      "--------------\n",
      "\n",
      "\n",
      "FIN\n",
      "\n",
      "Error medio usando descenso del gradiente:  2.173176280414645\n"
     ]
    }
   ],
   "source": [
    "# COMPLETAR \n",
    "error_abs = [] # Lista vacía para almacenar los errores de cada conjunto train/test y luego calcular el error medio cometido\n",
    "arr_J_history = [] # Lista vacía para almacenar los J_history de cada conjunto train/test y luego poder visualizar la función coste J a través de las iteraciones de cada modelo\n",
    "arr_theta_optimo = [] # Lista vacía para almacenar los theta optimos de cada conjunto train/test\n",
    "arr_id_bolsa = [] # Lista vacía para almacenar el id de la bolsa con los índices de cada conjunto train/test\n",
    "arr_X_training = [] # Lista vacía para almacenar cada conjunto de training X\n",
    "arr_y_training = [] # Lista vacía para almacenar cada conjunto de training y\n",
    "\n",
    "for i in range(0,K): # Para cada bolsa\n",
    "  print(\"\\nBOLSA: \", i)\n",
    "  # Crear los conjuntos test/training\n",
    "  X_test = X.loc[indices[i]]\n",
    "  y_test = y.loc[indices[i]]\n",
    "  X_training = X.loc[~X.index.isin(indices[i])]\n",
    "  y_training = y.loc[~y.index.isin(indices[i])]\n",
    "\n",
    "  print(\"El tamaño del training debe ser: \",len(X)-round(len(X)/K), \" - Comprobación: tamaño X_training es \", len(X_training), \" y tamaño y_training es\", len(y_training))\n",
    "  print(\"El tamaño del test debe ser: \", round(len(X)/K), \" - Comprobación: tamaño X_test es \", len(X_test), \" y tamaño y_test es\", len(y_test))\n",
    "  \n",
    "  # Reseteamos los índices de todos los conjuntos\n",
    "  X_training = X_training.reset_index(drop=True)\n",
    "  y_training = y_training.reset_index(drop=True)\n",
    "  X_test = X_test.reset_index(drop=True)\n",
    "  y_test = y_test.reset_index(drop=True)\n",
    "\n",
    "  # Descenso del gradiente\n",
    "  theta_optimo_cv, J_history_cv = gradientDescent(X_training, y_training, theta, alpha, iterations)\n",
    "  print('\\tTheta encontrado con el descenso del gradiente: \\n', theta_optimo_cv)\n",
    "  print('\\n\\tCoste alcanzado en la última iteración : ', J_history_cv[J_history_cv['iteracion']==iterations-1]['coste']) \n",
    "  arr_theta_optimo.append(theta_optimo_cv) # Añadir theta_optimo_cv a la lista de theta optimos\n",
    "  arr_J_history.append(J_history_cv) # Añadir J_history_cv a la lista de J_history\n",
    "  arr_id_bolsa.append(i) # Añadir el id de la bolsa que se está recorriendo a la lista de ids\n",
    "  arr_X_training.append(X_training) # Añadir el X_training a la lista de X_training\n",
    "  arr_y_training.append(y_training) # Añadir el y_training a la lista de y_training\n",
    "\n",
    "  # Predicción de todo el conjunto de test\n",
    "  y_predicted = np.dot(X_test, theta_optimo_cv)\n",
    "\n",
    "  # Errores\n",
    "  MAE_sklearn_cv = metrics.mean_absolute_error(y_test, y_predicted)\n",
    "  print(\"\\tEl error absoluto medio usando sklearn es: \", MAE_sklearn_cv)\n",
    "  MSE_sklearn_cv = metrics.mean_squared_error(y_test, y_predicted)\n",
    "  print(\"\\tEl error cuadrático medio usando sklearn es: \", MSE_sklearn_cv)\n",
    "  error_abs.append(MAE_sklearn_cv) # Añadir MAE a la lista de errores\n",
    "    \n",
    "  print(\"--------------\")\n",
    "\n",
    "print(\"\\n\\nFIN\\n\\nError medio usando descenso del gradiente: \", np.sum(error_abs,axis=0)/K)\n",
    "df_cv = pd.DataFrame({'id':arr_id_bolsa, 'theta': arr_theta_optimo, 'J_history':arr_J_history, 'X_training':arr_X_training,'y_training':arr_X_training}) # Crear dataframe con todo lo necesario para poder realizar las visualizaciones que se nos piden a continuación: ids, thetas optimos, J_history, ...."
   ]
  },
  {
   "cell_type": "markdown",
   "metadata": {
    "id": "okO8jHPS4BY9"
   },
   "source": [
    "#### 3.1) Visualizar el histórico coste-iteración\n",
    "De cada conjunto training/test"
   ]
  },
  {
   "cell_type": "code",
   "execution_count": null,
   "metadata": {
    "id": "nBVnEjDX3jjs"
   },
   "outputs": [],
   "source": [
    "# COMPLETAR"
   ]
  },
  {
   "cell_type": "markdown",
   "metadata": {
    "id": "hWH5LpMG4Sk7"
   },
   "source": [
    "#### 3.2) Visualizar el óptimo encontrado para el modelo con curvas de nivel\n",
    "De cada conjunto training/test"
   ]
  },
  {
   "cell_type": "code",
   "execution_count": null,
   "metadata": {
    "id": "ZI_bLd-e3s8i"
   },
   "outputs": [],
   "source": [
    "# COMPLETAR"
   ]
  },
  {
   "cell_type": "markdown",
   "metadata": {
    "id": "yppY9k9t5AoO"
   },
   "source": [
    "#### 3.3) Visualizar gráficamente el modelo obtenido\n",
    "De cada conjunto training/test"
   ]
  },
  {
   "cell_type": "code",
   "execution_count": null,
   "metadata": {
    "id": "O0GYpnAU4_ee"
   },
   "outputs": [],
   "source": [
    "# COMPLETAR"
   ]
  }
 ],
 "metadata": {
  "colab": {
   "collapsed_sections": [],
   "provenance": [],
   "toc_visible": true
  },
  "kernelspec": {
   "display_name": "Python 3 (ipykernel)",
   "language": "python",
   "name": "python3"
  },
  "language_info": {
   "codemirror_mode": {
    "name": "ipython",
    "version": 3
   },
   "file_extension": ".py",
   "mimetype": "text/x-python",
   "name": "python",
   "nbconvert_exporter": "python",
   "pygments_lexer": "ipython3",
   "version": "3.10.13"
  }
 },
 "nbformat": 4,
 "nbformat_minor": 4
}
