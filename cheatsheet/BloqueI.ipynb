{
 "cells": [
  {
   "cell_type": "markdown",
   "metadata": {},
   "source": [
    "# CHEATSHEET BLOQUE I\n",
    "Importacion de librerias:"
   ]
  },
  {
   "cell_type": "code",
   "execution_count": 1,
   "metadata": {},
   "outputs": [],
   "source": [
    "import pandas as pd\n",
    "import numpy as np\n",
    "import matplotlib.pyplot as plt\n",
    "import scipy.io as sio\n",
    "import scipy.optimize as opt"
   ]
  },
  {
   "cell_type": "markdown",
   "metadata": {},
   "source": [
    "Lectura de ficheros:"
   ]
  },
  {
   "cell_type": "code",
   "execution_count": 2,
   "metadata": {},
   "outputs": [],
   "source": [
    "def read_file1(file_name):\n",
    "    file = pd.read_csv(file_name, names=[\"X\",\"y\"])\n",
    "    X = pd.DataFrame({'X': file['X']})\n",
    "    y = pd.DataFrame({'y': file['y']})\n",
    "\n",
    "    return X, y\n",
    "\n",
    "def read_file2(file_name):\n",
    "    file = pd.read_csv(file_name, names=[\"X1\",\"X2\",\"y\"])\n",
    "    X = pd.DataFrame({'X1': file['X1'], 'X2': file['X2']})\n",
    "    y = pd.DataFrame({'y': file['y']})\n",
    "    \n",
    "    return X, y\n",
    "\n",
    "def read_file3(file_name):\n",
    "    file = pd.read_csv(file_name, names=[\"score1\", \"score2\", \"label\"])\n",
    "    X = pd.DataFrame({'score1': file['score1'],'score2': file['score2']})\n",
    "    y = pd.DataFrame({'label': file['label']})\n",
    "    \n",
    "    return X, y"
   ]
  },
  {
   "cell_type": "markdown",
   "metadata": {},
   "source": [
    "## Regresion lineal\n",
    "### Regresion lineal univariable\n",
    "\n",
    "* La realidad se modela con base a la recta que mejor ajusta el conjunto de entrenamiento (Buscamos la distancia media mínima de todos los puntos a la recta).\n",
    "* Se realizan múltiples iteraciones para ir ajustando los coeficientes para formar la recta (paramos cuando cumplamos una tolerancia de error y/o X iteraciones).\n",
    "\n",
    "#### Función de coste (Error cuadrático)\n",
    "\n",
    "\\begin{equation}\n",
    "J(\\theta)=\\frac{1}{2 \\cdot m}\\sum_{i=1}^{m} (h_{\\theta}-y)^2 = \\frac{1}{2 \\cdot m}\\sum (X \\cdot \\theta-y)^2\n",
    "\\end{equation}\n"
   ]
  },
  {
   "cell_type": "code",
   "execution_count": 3,
   "metadata": {},
   "outputs": [],
   "source": [
    "# Coste computacional de la regresión lineal univariante\n",
    "def computeCost(X, y, tetha):\n",
    "    m = len(y)\n",
    "    h = np.dot(X, tetha)\n",
    "    return np.dot((h-y).T,h-y)/2*m"
   ]
  },
  {
   "cell_type": "markdown",
   "metadata": {},
   "source": [
    "#### Inicializacion de $\\theta$ y $x_0$ con primera columna de unos"
   ]
  },
  {
   "cell_type": "code",
   "execution_count": 4,
   "metadata": {},
   "outputs": [
    {
     "name": "stdout",
     "output_type": "stream",
     "text": [
      "Estadisticas del dataset 1 (ex1data1.txt): \n",
      "       ones          X\n",
      "count  97.0  97.000000\n",
      "mean    1.0   8.159800\n",
      "std     0.0   3.869884\n",
      "min     1.0   5.026900\n",
      "25%     1.0   5.707700\n",
      "50%     1.0   6.589400\n",
      "75%     1.0   8.578100\n",
      "max     1.0  22.203000\n"
     ]
    }
   ],
   "source": [
    "X, y = read_file1('datasets/ex1data1.txt')\n",
    "ones = np.ones((len(y),1))\n",
    "X['ones'] = ones\n",
    "X = X[['ones','X']]\n",
    "\n",
    "theta = np.zeros((X.shape[1],1))\n",
    "\n",
    "print(\"Estadisticas del dataset 1 (ex1data1.txt): \\n\"+ str(X.describe())) "
   ]
  },
  {
   "cell_type": "markdown",
   "metadata": {},
   "source": [
    "#### Descenso del gradiente:\n",
    "\n",
    "\\begin{equation}\n",
    "\\theta = \\theta - \\alpha \\frac{1}{m} (X^T \\cdot (X \\cdot \\theta - y))\n",
    "\\end{equation}"
   ]
  },
  {
   "cell_type": "code",
   "execution_count": 5,
   "metadata": {},
   "outputs": [],
   "source": [
    "# Descenso del gradiente de la regresión lineal\n",
    "def gradientDescent(X, y, theta, iter, alpha):\n",
    "    m = len(y)\n",
    "    current_cost = []\n",
    "    current_iter = []\n",
    "    J_history = []\n",
    "    for i in range(iter):\n",
    "        theta = theta - alpha * (np.dot(X.T, (np.dot(X, theta) - y)))/m\n",
    "        current_cost.append(computeCost(X, y, theta))\n",
    "        current_iter.append(i)\n",
    "    \n",
    "    J_history = pd.DataFrame({'iter': current_iter, 'cost': current_cost})\n",
    "    return theta, J_history"
   ]
  },
  {
   "cell_type": "markdown",
   "metadata": {},
   "source": [
    "#### Ejemplo con datos de pruebas:"
   ]
  },
  {
   "cell_type": "code",
   "execution_count": 6,
   "metadata": {},
   "outputs": [
    {
     "name": "stdout",
     "output_type": "stream",
     "text": [
      "Thetas resultantes: \n",
      "[[-3.63029144]\n",
      " [ 1.16636235]]\n",
      "Estas son las predicciones para 3.5, 7 y 10: \n",
      "[0.45197679]\n",
      "[4.53424501]\n",
      "[8.03333206]\n"
     ]
    }
   ],
   "source": [
    "theta, J_history = gradientDescent(X, y, theta, 1500, 0.01)\n",
    "print(\"Thetas resultantes: \\n\" + str(theta))\n",
    "\n",
    "# Metemos un vector de 1s para poder hacer la multiplicación de matrices\n",
    "predict1 = np.dot([1, 3.5], theta)\n",
    "predict2 = np.dot([1, 7], theta)\n",
    "predict3 = np.dot([1, 10], theta)\n",
    "\n",
    "print(\"Estas son las predicciones para 3.5, 7 y 10: \\n\" + str(predict1) + \"\\n\" + str(predict2) + \"\\n\" + str(predict3))"
   ]
  },
  {
   "cell_type": "markdown",
   "metadata": {},
   "source": [
    "#### Grafica para mostrar el Cost vs Iter:"
   ]
  },
  {
   "cell_type": "code",
   "execution_count": 7,
   "metadata": {},
   "outputs": [],
   "source": [
    "def costvsiter(J_history):\n",
    "    plt.plot(J_history['iter'], J_history['cost'])\n",
    "    plt.xlabel(\"Number of iterations\")\n",
    "    plt.ylabel(\"Cost\")\n",
    "    plt.title(\"Cost vs Number of iterations\")\n",
    "    plt.show()"
   ]
  },
  {
   "cell_type": "code",
   "execution_count": 8,
   "metadata": {},
   "outputs": [
    {
     "data": {
      "image/png": "[encoded data removed]",
      "text/plain": [
       "<Figure size 640x480 with 1 Axes>"
      ]
     },
     "metadata": {},
     "output_type": "display_data"
    }
   ],
   "source": [
    "costvsiter(J_history)"
   ]
  },
  {
   "cell_type": "markdown",
   "metadata": {},
   "source": [
    "#### Regresión lineal de las $\\theta$ óptimas en los datos: "
   ]
  },
  {
   "cell_type": "code",
   "execution_count": 9,
   "metadata": {},
   "outputs": [],
   "source": [
    "def plotDataTheta(theta, X, y):\n",
    "    plt.scatter(X['X'], y, color='red', marker='x')\n",
    "    plt.plot(X['X'], np.dot(X, theta))\n",
    "    plt.xlabel(\"Population of City in 10,000s\")\n",
    "    plt.ylabel(\"Profit in $10,000s\")\n",
    "    plt.title(\"Profit vs Population of City\")\n",
    "    plt.show()"
   ]
  },
  {
   "cell_type": "code",
   "execution_count": 10,
   "metadata": {},
   "outputs": [
    {
     "data": {
      "image/png": "[encoded data removed]",
      "text/plain": [
       "<Figure size 640x480 with 1 Axes>"
      ]
     },
     "metadata": {},
     "output_type": "display_data"
    }
   ],
   "source": [
    "plotDataTheta(theta, X, y)"
   ]
  },
  {
   "cell_type": "markdown",
   "metadata": {},
   "source": [
    "#### Regresión lineal multivariable\n",
    "\n",
    "* La realidad se modela con base al plano que mejor ajusta el conjunto de entrenamiento (Buscamos la distancia media mínima de todos los puntos al plano).\n",
    "* Se realizan múltiples iteraciones para ir ajustando los coeficientes para formar el plano (paramos cuando cumplamos una tolerancia de error y/o X iteraciones).\n",
    "\n",
    "#### Función de coste (Error cuadrático)(Mismo que la de una variable):\n",
    "\n",
    "\\begin{equation}\n",
    "J(\\theta)=\\frac{1}{2m} \\sum_{i=1}^{m} \\left( h_{\\theta}(x_i) - y_i \\right)^2 = \\frac{1}{2m} \\left( X \\cdot \\theta - y \\right)^T \\left( X \\cdot \\theta - y \\right)\n",
    "\\end{equation}"
   ]
  },
  {
   "cell_type": "markdown",
   "metadata": {},
   "source": [
    "#### Inicializacion de $\\theta$ y $x_0$ con primera columna de unos"
   ]
  },
  {
   "cell_type": "code",
   "execution_count": 11,
   "metadata": {},
   "outputs": [
    {
     "name": "stdout",
     "output_type": "stream",
     "text": [
      "Estadísticas de la segunda base de datos: \n",
      "       ones           X1         X2\n",
      "count  47.0    47.000000  47.000000\n",
      "mean    1.0  2000.680851   3.170213\n",
      "std     0.0   794.702354   0.760982\n",
      "min     1.0   852.000000   1.000000\n",
      "25%     1.0  1432.000000   3.000000\n",
      "50%     1.0  1888.000000   3.000000\n",
      "75%     1.0  2269.000000   4.000000\n",
      "max     1.0  4478.000000   5.000000\n"
     ]
    }
   ],
   "source": [
    "X, y = read_file2('datasets/ex1data2.txt')\n",
    "ones = np.ones((len(y),1))\n",
    "X['ones'] = ones\n",
    "X = X[['ones','X1','X2']]\n",
    "\n",
    "theta = np.zeros((X.shape[1],1))\n",
    "\n",
    "print(\"Estadísticas de la segunda base de datos: \\n\" + str(X.describe()))"
   ]
  },
  {
   "cell_type": "markdown",
   "metadata": {},
   "source": [
    "#### Descenso del gradiente(la misma que la de una variable):\n",
    "\n",
    "\\begin{equation}\n",
    "\\theta = \\theta - \\alpha \\frac{1}{m} (X^T \\cdot (X \\cdot \\theta - y))\n",
    "\\end{equation}"
   ]
  },
  {
   "cell_type": "markdown",
   "metadata": {},
   "source": [
    "#### Ejemplo con datos de pruebas:"
   ]
  },
  {
   "cell_type": "code",
   "execution_count": 12,
   "metadata": {},
   "outputs": [
    {
     "name": "stderr",
     "output_type": "stream",
     "text": [
      "C:\\Users\\danit\\AppData\\Local\\Temp\\ipykernel_18104\\328925320.py:8: RuntimeWarning: invalid value encountered in subtract\n",
      "  theta = theta - alpha * (np.dot(X.T, (np.dot(X, theta) - y)))/m\n"
     ]
    },
    {
     "name": "stdout",
     "output_type": "stream",
     "text": [
      "[[nan]\n",
      " [nan]\n",
      " [nan]]\n"
     ]
    }
   ],
   "source": [
    "theta, J_history = gradientDescent(X, y, theta, 1500, 0.01)\n",
    "print(theta)\n"
   ]
  },
  {
   "cell_type": "markdown",
   "metadata": {},
   "source": [
    "## Regresión Logística\n",
    "### Regresión logística binaria\n",
    "\n",
    "#### Función sigmoide para la hipótesis:"
   ]
  },
  {
   "cell_type": "code",
   "execution_count": 13,
   "metadata": {},
   "outputs": [],
   "source": [
    "# z es theta.T * X \n",
    "def sigmoid(z):\n",
    "    return (1/(1+np.exp(-z)))"
   ]
  },
  {
   "cell_type": "markdown",
   "metadata": {},
   "source": [
    "#### Coste regresión logística:\n",
    "\n",
    "\\begin{equation}\n",
    "J(\\theta)=\\frac{-1}{m}\\sum_{i=1}^{m} (y^i \\cdot log(h_{\\theta}(x^i))+(1-y^i)\\cdot log(1-h_{\\theta}(x^i)))\n",
    "\\end{equation}\n",
    "\n",
    "\\begin{equation}\n",
    "= \n",
    "\\frac{-1}{m}\\sum (y \\cdot log(h_{\\theta}(X))+(1-y)\\cdot log(1-h_{\\theta}(X)))\n",
    "\\end{equation}"
   ]
  },
  {
   "cell_type": "code",
   "execution_count": 14,
   "metadata": {},
   "outputs": [],
   "source": [
    "def computeCost(X, y, theta):\n",
    "    return (-1/len(y))*(np.dot(y,np.log(sigmoid(X, theta)))+np.dot(1-y,np.log(1-sigmoid(X, theta))))"
   ]
  },
  {
   "cell_type": "markdown",
   "metadata": {},
   "source": [
    "##### Carga de datos:"
   ]
  },
  {
   "cell_type": "code",
   "execution_count": 15,
   "metadata": {},
   "outputs": [],
   "source": [
    "X, y = read_file3(\"datasets/ex2data1.txt\")"
   ]
  },
  {
   "cell_type": "markdown",
   "metadata": {},
   "source": [
    "#### Descenso del gradiente\n",
    "\n",
    "\\begin{equation}\n",
    "\\frac{\\partial J(\\theta)}{\\partial \\theta_j}=\\frac{1}{m}\\sum_{i=1}^{m} (h_{\\theta}(x^i)-y^i)\\cdot x_j^i\n",
    "\\end{equation}"
   ]
  },
  {
   "cell_type": "code",
   "execution_count": 16,
   "metadata": {},
   "outputs": [],
   "source": [
    "def gradientDescent(X, y, theta, iter, alpha):\n",
    "    m = len(y)\n",
    "    cost = []\n",
    "    iterations = []\n",
    "    for i in range(iter):\n",
    "        h = sigmoid(np.dot(X.T, theta))\n",
    "        theta = theta - alpha * (1/m) * np.dot(X.T, h - y)\n",
    "        cost.append(computeCost(X, y, theta))\n",
    "        iterations.append(i)\n",
    "    \n",
    "    J_history = pd.DataFrame({'iter': iterations, 'cost': cost})\n",
    "        \n",
    "    return theta, J_history\n"
   ]
  },
  {
   "cell_type": "markdown",
   "metadata": {},
   "source": [
    "#### Ejercicio de ejemplo"
   ]
  },
  {
   "cell_type": "code",
   "execution_count": 17,
   "metadata": {},
   "outputs": [
    {
     "data": {
      "text/html": [
       "<div>\n",
       "<style scoped>\n",
       "    .dataframe tbody tr th:only-of-type {\n",
       "        vertical-align: middle;\n",
       "    }\n",
       "\n",
       "    .dataframe tbody tr th {\n",
       "        vertical-align: top;\n",
       "    }\n",
       "\n",
       "    .dataframe thead th {\n",
       "        text-align: right;\n",
       "    }\n",
       "</style>\n",
       "<table border=\"1\" class=\"dataframe\">\n",
       "  <thead>\n",
       "    <tr style=\"text-align: right;\">\n",
       "      <th></th>\n",
       "      <th>unos</th>\n",
       "      <th>score1</th>\n",
       "      <th>score2</th>\n",
       "    </tr>\n",
       "  </thead>\n",
       "  <tbody>\n",
       "    <tr>\n",
       "      <th>0</th>\n",
       "      <td>1.0</td>\n",
       "      <td>34.623660</td>\n",
       "      <td>78.024693</td>\n",
       "    </tr>\n",
       "    <tr>\n",
       "      <th>1</th>\n",
       "      <td>1.0</td>\n",
       "      <td>30.286711</td>\n",
       "      <td>43.894998</td>\n",
       "    </tr>\n",
       "    <tr>\n",
       "      <th>2</th>\n",
       "      <td>1.0</td>\n",
       "      <td>35.847409</td>\n",
       "      <td>72.902198</td>\n",
       "    </tr>\n",
       "    <tr>\n",
       "      <th>3</th>\n",
       "      <td>1.0</td>\n",
       "      <td>60.182599</td>\n",
       "      <td>86.308552</td>\n",
       "    </tr>\n",
       "    <tr>\n",
       "      <th>4</th>\n",
       "      <td>1.0</td>\n",
       "      <td>79.032736</td>\n",
       "      <td>75.344376</td>\n",
       "    </tr>\n",
       "  </tbody>\n",
       "</table>\n",
       "</div>"
      ],
      "text/plain": [
       "   unos     score1     score2\n",
       "0   1.0  34.623660  78.024693\n",
       "1   1.0  30.286711  43.894998\n",
       "2   1.0  35.847409  72.902198\n",
       "3   1.0  60.182599  86.308552\n",
       "4   1.0  79.032736  75.344376"
      ]
     },
     "metadata": {},
     "output_type": "display_data"
    },
    {
     "name": "stdout",
     "output_type": "stream",
     "text": [
      "Unexpected exception formatting exception. Falling back to standard exception\n"
     ]
    },
    {
     "name": "stderr",
     "output_type": "stream",
     "text": [
      "Traceback (most recent call last):\n",
      "  File \"c:\\Users\\danit\\anaconda3\\envs\\entornoIA2425\\lib\\site-packages\\IPython\\core\\interactiveshell.py\", line 3526, in run_code\n",
      "    exec(code_obj, self.user_global_ns, self.user_ns)\n",
      "  File \"C:\\Users\\danit\\AppData\\Local\\Temp\\ipykernel_18104\\3096782027.py\", line 7, in <module>\n",
      "    theta, J_history = gradientDescent(X, y, theta, 1500, 0.01)\n",
      "  File \"C:\\Users\\danit\\AppData\\Local\\Temp\\ipykernel_18104\\3187127537.py\", line 7, in gradientDescent\n",
      "    theta = theta - alpha * (1/m) * np.dot(X.T, h - y)\n",
      "  File \"c:\\Users\\danit\\anaconda3\\envs\\entornoIA2425\\lib\\site-packages\\pandas\\core\\generic.py\", line 2171, in __array_ufunc__\n",
      "    return arraylike.array_ufunc(self, ufunc, method, *inputs, **kwargs)\n",
      "  File \"c:\\Users\\danit\\anaconda3\\envs\\entornoIA2425\\lib\\site-packages\\pandas\\core\\arraylike.py\", line 276, in array_ufunc\n",
      "    result = maybe_dispatch_ufunc_to_dunder_op(self, ufunc, method, *inputs, **kwargs)\n",
      "  File \"ops_dispatch.pyx\", line 113, in pandas._libs.ops_dispatch.maybe_dispatch_ufunc_to_dunder_op\n",
      "  File \"c:\\Users\\danit\\anaconda3\\envs\\entornoIA2425\\lib\\site-packages\\pandas\\core\\ops\\common.py\", line 76, in new_method\n",
      "    return method(self, other)\n",
      "  File \"c:\\Users\\danit\\anaconda3\\envs\\entornoIA2425\\lib\\site-packages\\pandas\\core\\arraylike.py\", line 198, in __rsub__\n",
      "    return self._arith_method(other, roperator.rsub)\n",
      "  File \"c:\\Users\\danit\\anaconda3\\envs\\entornoIA2425\\lib\\site-packages\\pandas\\core\\frame.py\", line 7910, in _arith_method\n",
      "    self, other = self._align_for_op(other, axis, flex=True, level=None)\n",
      "  File \"c:\\Users\\danit\\anaconda3\\envs\\entornoIA2425\\lib\\site-packages\\pandas\\core\\frame.py\", line 8169, in _align_for_op\n",
      "    raise ValueError(\n",
      "ValueError: Unable to coerce to DataFrame, shape must be (100, 1): given (3, 1)\n",
      "\n",
      "During handling of the above exception, another exception occurred:\n",
      "\n",
      "Traceback (most recent call last):\n",
      "  File \"c:\\Users\\danit\\anaconda3\\envs\\entornoIA2425\\lib\\site-packages\\IPython\\core\\interactiveshell.py\", line 2120, in showtraceback\n",
      "    stb = self.InteractiveTB.structured_traceback(\n",
      "  File \"c:\\Users\\danit\\anaconda3\\envs\\entornoIA2425\\lib\\site-packages\\IPython\\core\\ultratb.py\", line 1435, in structured_traceback\n",
      "    return FormattedTB.structured_traceback(\n",
      "  File \"c:\\Users\\danit\\anaconda3\\envs\\entornoIA2425\\lib\\site-packages\\IPython\\core\\ultratb.py\", line 1326, in structured_traceback\n",
      "    return VerboseTB.structured_traceback(\n",
      "  File \"c:\\Users\\danit\\anaconda3\\envs\\entornoIA2425\\lib\\site-packages\\IPython\\core\\ultratb.py\", line 1173, in structured_traceback\n",
      "    formatted_exception = self.format_exception_as_a_whole(etype, evalue, etb, number_of_lines_of_context,\n",
      "  File \"c:\\Users\\danit\\anaconda3\\envs\\entornoIA2425\\lib\\site-packages\\IPython\\core\\ultratb.py\", line 1063, in format_exception_as_a_whole\n",
      "    self.get_records(etb, number_of_lines_of_context, tb_offset) if etb else []\n",
      "  File \"c:\\Users\\danit\\anaconda3\\envs\\entornoIA2425\\lib\\site-packages\\IPython\\core\\ultratb.py\", line 1155, in get_records\n",
      "    FrameInfo(\n",
      "  File \"c:\\Users\\danit\\anaconda3\\envs\\entornoIA2425\\lib\\site-packages\\IPython\\core\\ultratb.py\", line 780, in __init__\n",
      "    ix = inspect.getsourcelines(frame)\n",
      "  File \"c:\\Users\\danit\\anaconda3\\envs\\entornoIA2425\\lib\\inspect.py\", line 1006, in getsourcelines\n",
      "    lines, lnum = findsource(object)\n",
      "  File \"c:\\Users\\danit\\anaconda3\\envs\\entornoIA2425\\lib\\inspect.py\", line 827, in findsource\n",
      "    raise OSError('source code not available')\n",
      "OSError: source code not available\n"
     ]
    }
   ],
   "source": [
    "ones = np.ones((len(X), 1))\n",
    "X.insert(0, 'unos', ones)\n",
    "\n",
    "theta = np.zeros((len(y), 1))\n",
    "display(X.head())\n",
    "\n",
    "theta, J_history = gradientDescent(X, y, theta, 1500, 0.01)\n",
    "\n",
    "print(theta)"
   ]
  },
  {
   "cell_type": "markdown",
   "metadata": {},
   "source": [
    "### Redes neuronales\n",
    "#### Funciones de activación (Sigmoide)\n",
    "$\\sigma(z) = \\frac{1}{1 + e^{-z}}$\n"
   ]
  },
  {
   "cell_type": "code",
   "execution_count": 18,
   "metadata": {},
   "outputs": [],
   "source": [
    "def sigmoid(z):\n",
    "    return 1/(1 + np.exp(-z))"
   ]
  },
  {
   "cell_type": "markdown",
   "metadata": {},
   "source": [
    "#### Forward-propagation\n",
    "Forma en la que se modela el transpaso de conocimiento a través de las neuronas y capas para obtener la salida final\n"
   ]
  },
  {
   "cell_type": "code",
   "execution_count": 19,
   "metadata": {},
   "outputs": [],
   "source": [
    "def forward(thetas, X):\n",
    "    activations = []  # Para guardar las activaciones de cada capa\n",
    "    a = np.hstack((1, X))  # A1 (añadimos el bias a la capa de entrada)\n",
    "    activations.append(a)\n",
    "    \n",
    "    # Iteramos sobre cada capa\n",
    "    for i in range(len(thetas)):\n",
    "        z = np.dot(thetas[i], a)  # Producto punto entre los pesos y las activaciones anteriores\n",
    "        a = sigmoid(z)  # Aplicamos la función sigmoide\n",
    "        if i < len(thetas) - 1:  # Si no es la última capa\n",
    "            a = np.hstack((1, a))  # Añadimos el bias (1) a las activaciones para las capas ocultas\n",
    "        activations.append(a)  # Guardamos las activaciones\n",
    "    \n",
    "    # La última activación es la salida h\n",
    "    h = activations[-1]\n",
    "    \n",
    "    return activations, h"
   ]
  },
  {
   "cell_type": "markdown",
   "metadata": {},
   "source": [
    "#### Coste de la red neuronal\n",
    "\n",
    "\\begin{equation}\n",
    "J(\\Theta)=\\frac{-1}{m}\\sum_{i=1}^{m} \\sum_{k=1}^{K} (y_k^i \\cdot log((h_{\\theta}(x^i))_k)+(1-y_k^i)\\cdot log(1-(h_{\\theta}(x^i))_k))\n",
    "\\end{equation}"
   ]
  },
  {
   "cell_type": "code",
   "execution_count": 20,
   "metadata": {},
   "outputs": [],
   "source": [
    "def nnCostFunction(nn_params, layer_sizes, X, y):\n",
    "  # Paso 1: Desenrollar los parámetros con el mismo order con el que se enrollaron\n",
    "  thetas = []\n",
    "  start = 0\n",
    "  for i in range(len(layer_sizes) - 1):\n",
    "    end = start + (layer_sizes[i + 1] * (layer_sizes[i] + 1))\n",
    "    theta = np.reshape(nn_params[start:end], (layer_sizes[i + 1], layer_sizes[i] + 1), order='F')\n",
    "    thetas.append(theta)\n",
    "    start = end\n",
    "\n",
    "  # Paso 2: Definir variables necesarias\n",
    "  m = len(y)\n",
    "  suma = 0\n",
    "  y_d = pd.DataFrame(y)  # ¡¡IMPORTANTE!!: No aplicamos one-hot encoding ya que solo tenemos 1 clase: spam/no spam.\n",
    "  # Pero es importante transformar y a DataFrame para poder acceder fila por fila\n",
    "\n",
    "  # Paso 3: Para cada fila\n",
    "  for i in range(X.shape[0]):\n",
    "    # Paso 3.1: Forward propagation\n",
    "    activations, h = forward(thetas, X[i])\n",
    "    # Paso 3.2: Coste (como en regresión logística)\n",
    "    temp1 = y_d.iloc[i] * (np.log(h))\n",
    "    temp2 = (1 - y_d.iloc[i]) * np.log(1 - h)\n",
    "    temp3 = np.sum(temp1 + temp2)\n",
    "    suma = suma + temp3\n",
    "\n",
    "  J = (np.sum(suma) / (-m))\n",
    "  return J"
   ]
  },
  {
   "cell_type": "markdown",
   "metadata": {},
   "source": [
    "#### Gradiente:"
   ]
  },
  {
   "cell_type": "code",
   "execution_count": 21,
   "metadata": {},
   "outputs": [],
   "source": [
    "def nnGradFunction(nn_params, layer_sizes, X, y):\n",
    "  # Paso 1: Enrollar nn_params para obtener cada uno de los theta (pesos/parámetros)\n",
    "  thetas = []\n",
    "  start = 0\n",
    "  for i in range(len(layer_sizes) - 1):\n",
    "    end = start + (layer_sizes[i] + 1) * layer_sizes[i + 1]\n",
    "    theta = np.reshape(nn_params[start:end], (layer_sizes[i + 1], layer_sizes[i] + 1), order='F')\n",
    "    thetas.append(theta)\n",
    "    start = end\n",
    "\n",
    "  # Paso 2: Definir variables necesarias\n",
    "  m = len(y)\n",
    "  y_d = pd.DataFrame(y)  # ¡¡IMPORTANTE!!: No aplicamos one-hot encoding ya que solo tenemos 1 clase: spam/no spam.\n",
    "  deltas = [np.zeros(theta.shape) for theta in thetas]\n",
    "\n",
    "  # Paso 3: Para cada fila\n",
    "  for i in range(X.shape[0]):\n",
    "    # Paso 3.1: Forward propagation\n",
    "    a = [np.hstack((1, X[i]))]  # Añadir bias a la entrada\n",
    "    for theta in thetas:\n",
    "      a.append(np.hstack((1, sigmoid(a[-1] @ theta.T))))\n",
    "    a[-1] = a[-1][1:]  # Eliminar bias de la última capa\n",
    "\n",
    "    # Paso 3.2: Cálculo de los delta/errores\n",
    "    d = [a[-1] - y_d.iloc[i]]  # Error en la última capa\n",
    "    for j in range(len(thetas) - 1, 0, -1):\n",
    "      d.insert(0, np.multiply(thetas[j].T @ d[0], np.multiply(a[j], 1 - a[j]))[1:])\n",
    "\n",
    "    # Paso 3.3: Cálculo de las derivadas ajustando las dimensiones de los errores y las activaciones de cada capa correctamente\n",
    "    for j in range(len(deltas)):\n",
    "      deltas[j] += np.reshape(d[j], (layer_sizes[j + 1], 1)) @ np.reshape(a[j], (1, layer_sizes[j] + 1))\n",
    "\n",
    "  # Paso 4: Se desenrollan ambas derivadas con el mismo order con el que se enrollaron\n",
    "  deltas = [delta / m for delta in deltas]\n",
    "  gradiente = np.hstack([delta.ravel(order='F') for delta in deltas])\n",
    "  return gradiente"
   ]
  },
  {
   "cell_type": "markdown",
   "metadata": {},
   "source": [
    "#### Training de la red neuronal"
   ]
  },
  {
   "cell_type": "code",
   "execution_count": 22,
   "metadata": {},
   "outputs": [],
   "source": [
    "def training(initial_thetas, X_train, y_train, layer_sizes):\n",
    "  maxiter = 10  # Si tarda demasiado, se puede bajar el número de iteraciones al hacer la prueba inicial para comprobar que el entrenamiento es el adecuado\n",
    "\n",
    "  # Paso 1: Desenrollar los parámetros con el mismo order con el que se enrollaron\n",
    "  nn_initial_params = np.hstack([theta.ravel(order='F') for theta in initial_thetas])\n",
    "\n",
    "  # Paso 2: Llamada al optimizador avanzado gradiente conjugado con la función: fmin_cg\n",
    "  nn_params = opt.fmin_cg(maxiter=maxiter, f=nnCostFunction, x0=nn_initial_params, fprime=nnGradFunction,\n",
    "              args=(layer_sizes, X_train, y_train.flatten()), gtol=0.005)\n",
    "\n",
    "  # Paso 3: Enrollar los pesos/parámetros theta desde la salida del optimizador avanzado (nn_params)\n",
    "  thetas = []\n",
    "  start = 0\n",
    "  for i in range(len(layer_sizes) - 1):\n",
    "    end = start + (layer_sizes[i + 1] * (layer_sizes[i] + 1))\n",
    "    theta = np.reshape(nn_params[start:end], (layer_sizes[i + 1], layer_sizes[i] + 1), order='F')\n",
    "    thetas.append(theta)\n",
    "    start = end\n",
    "\n",
    "  return thetas"
   ]
  },
  {
   "cell_type": "markdown",
   "metadata": {},
   "source": [
    "#### Predicción de la red neuronal"
   ]
  },
  {
   "cell_type": "code",
   "execution_count": 23,
   "metadata": {},
   "outputs": [],
   "source": [
    "def predict(thetas, X):\n",
    "  # Variables útiles\n",
    "  m = len(X)\n",
    "  ones = np.ones((m, 1))\n",
    "\n",
    "  a = np.hstack((ones, X))\n",
    "  for theta in thetas[:-1]:\n",
    "    a = np.hstack((ones, sigmoid(a @ theta.T)))\n",
    "  h = sigmoid(a @ thetas[-1].T)  # La hipótesis o predicción\n",
    "\n",
    "  # Si h es mayor o igual que 0.5, entonces la predicción será 1, si es menor que 0.5 será 0\n",
    "  # Función np.where: https://numpy.org/doc/stable/reference/generated/numpy.where.html : np.where(condicion, value if TRUE, value if FALSE)\n",
    "  pred = np.where(h >= 0.5, 1, 0)\n",
    "  return pred"
   ]
  },
  {
   "cell_type": "markdown",
   "metadata": {},
   "source": [
    "#### Definir theta inicial"
   ]
  },
  {
   "cell_type": "code",
   "execution_count": 24,
   "metadata": {},
   "outputs": [],
   "source": [
    "def thetasInicial(nlayers, epsilon=0.12):\n",
    "  thetas = []\n",
    "  for i in range(1, len(nlayers)):\n",
    "    theta = np.random.rand(nlayers[i], nlayers[i - 1] + 1) * 2 * epsilon - epsilon\n",
    "    thetas.append(theta)\n",
    "  return thetas"
   ]
  },
  {
   "cell_type": "markdown",
   "metadata": {},
   "source": [
    "#### Ejemplo de red neuronal"
   ]
  },
  {
   "cell_type": "code",
   "execution_count": 25,
   "metadata": {},
   "outputs": [
    {
     "ename": "ValueError",
     "evalue": "shapes (4,6) and (401,) not aligned: 6 (dim 1) != 401 (dim 0)",
     "output_type": "error",
     "traceback": [
      "\u001b[1;31m---------------------------------------------------------------------------\u001b[0m",
      "\u001b[1;31mValueError\u001b[0m                                Traceback (most recent call last)",
      "Cell \u001b[1;32mIn[25], line 8\u001b[0m\n\u001b[0;32m      5\u001b[0m nlayer \u001b[38;5;241m=\u001b[39m [\u001b[38;5;241m5\u001b[39m, \u001b[38;5;241m4\u001b[39m, \u001b[38;5;241m3\u001b[39m]\n\u001b[0;32m      6\u001b[0m thetas \u001b[38;5;241m=\u001b[39m thetasInicial(nlayer)\n\u001b[1;32m----> 8\u001b[0m trained_thetas \u001b[38;5;241m=\u001b[39m \u001b[43mtraining\u001b[49m\u001b[43m(\u001b[49m\u001b[43mthetas\u001b[49m\u001b[43m,\u001b[49m\u001b[43m \u001b[49m\u001b[43mX\u001b[49m\u001b[43m,\u001b[49m\u001b[43m \u001b[49m\u001b[43my\u001b[49m\u001b[43m,\u001b[49m\u001b[43m \u001b[49m\u001b[43mnlayer\u001b[49m\u001b[43m)\u001b[49m\n\u001b[0;32m      9\u001b[0m predictions \u001b[38;5;241m=\u001b[39m predict(trained_thetas, X)\n\u001b[0;32m     10\u001b[0m \u001b[38;5;28mprint\u001b[39m(\u001b[38;5;124m\"\u001b[39m\u001b[38;5;124mPredicciones: \u001b[39m\u001b[38;5;130;01m\\n\u001b[39;00m\u001b[38;5;124m\"\u001b[39m, predictions)\n",
      "Cell \u001b[1;32mIn[22], line 8\u001b[0m, in \u001b[0;36mtraining\u001b[1;34m(initial_thetas, X_train, y_train, layer_sizes)\u001b[0m\n\u001b[0;32m      5\u001b[0m nn_initial_params \u001b[38;5;241m=\u001b[39m np\u001b[38;5;241m.\u001b[39mhstack([theta\u001b[38;5;241m.\u001b[39mravel(order\u001b[38;5;241m=\u001b[39m\u001b[38;5;124m'\u001b[39m\u001b[38;5;124mF\u001b[39m\u001b[38;5;124m'\u001b[39m) \u001b[38;5;28;01mfor\u001b[39;00m theta \u001b[38;5;129;01min\u001b[39;00m initial_thetas])\n\u001b[0;32m      7\u001b[0m \u001b[38;5;66;03m# Paso 2: Llamada al optimizador avanzado gradiente conjugado con la función: fmin_cg\u001b[39;00m\n\u001b[1;32m----> 8\u001b[0m nn_params \u001b[38;5;241m=\u001b[39m \u001b[43mopt\u001b[49m\u001b[38;5;241;43m.\u001b[39;49m\u001b[43mfmin_cg\u001b[49m\u001b[43m(\u001b[49m\u001b[43mmaxiter\u001b[49m\u001b[38;5;241;43m=\u001b[39;49m\u001b[43mmaxiter\u001b[49m\u001b[43m,\u001b[49m\u001b[43m \u001b[49m\u001b[43mf\u001b[49m\u001b[38;5;241;43m=\u001b[39;49m\u001b[43mnnCostFunction\u001b[49m\u001b[43m,\u001b[49m\u001b[43m \u001b[49m\u001b[43mx0\u001b[49m\u001b[38;5;241;43m=\u001b[39;49m\u001b[43mnn_initial_params\u001b[49m\u001b[43m,\u001b[49m\u001b[43m \u001b[49m\u001b[43mfprime\u001b[49m\u001b[38;5;241;43m=\u001b[39;49m\u001b[43mnnGradFunction\u001b[49m\u001b[43m,\u001b[49m\n\u001b[0;32m      9\u001b[0m \u001b[43m            \u001b[49m\u001b[43margs\u001b[49m\u001b[38;5;241;43m=\u001b[39;49m\u001b[43m(\u001b[49m\u001b[43mlayer_sizes\u001b[49m\u001b[43m,\u001b[49m\u001b[43m \u001b[49m\u001b[43mX_train\u001b[49m\u001b[43m,\u001b[49m\u001b[43m \u001b[49m\u001b[43my_train\u001b[49m\u001b[38;5;241;43m.\u001b[39;49m\u001b[43mflatten\u001b[49m\u001b[43m(\u001b[49m\u001b[43m)\u001b[49m\u001b[43m)\u001b[49m\u001b[43m,\u001b[49m\u001b[43m \u001b[49m\u001b[43mgtol\u001b[49m\u001b[38;5;241;43m=\u001b[39;49m\u001b[38;5;241;43m0.005\u001b[39;49m\u001b[43m)\u001b[49m\n\u001b[0;32m     11\u001b[0m \u001b[38;5;66;03m# Paso 3: Enrollar los pesos/parámetros theta desde la salida del optimizador avanzado (nn_params)\u001b[39;00m\n\u001b[0;32m     12\u001b[0m thetas \u001b[38;5;241m=\u001b[39m []\n",
      "File \u001b[1;32mc:\\Users\\danit\\anaconda3\\envs\\entornoIA2425\\lib\\site-packages\\scipy\\optimize\\_optimize.py:1659\u001b[0m, in \u001b[0;36mfmin_cg\u001b[1;34m(f, x0, fprime, args, gtol, norm, epsilon, maxiter, full_output, disp, retall, callback, c1, c2)\u001b[0m\n\u001b[0;32m   1651\u001b[0m opts \u001b[38;5;241m=\u001b[39m {\u001b[38;5;124m'\u001b[39m\u001b[38;5;124mgtol\u001b[39m\u001b[38;5;124m'\u001b[39m: gtol,\n\u001b[0;32m   1652\u001b[0m         \u001b[38;5;124m'\u001b[39m\u001b[38;5;124mnorm\u001b[39m\u001b[38;5;124m'\u001b[39m: norm,\n\u001b[0;32m   1653\u001b[0m         \u001b[38;5;124m'\u001b[39m\u001b[38;5;124meps\u001b[39m\u001b[38;5;124m'\u001b[39m: epsilon,\n\u001b[0;32m   1654\u001b[0m         \u001b[38;5;124m'\u001b[39m\u001b[38;5;124mdisp\u001b[39m\u001b[38;5;124m'\u001b[39m: disp,\n\u001b[0;32m   1655\u001b[0m         \u001b[38;5;124m'\u001b[39m\u001b[38;5;124mmaxiter\u001b[39m\u001b[38;5;124m'\u001b[39m: maxiter,\n\u001b[0;32m   1656\u001b[0m         \u001b[38;5;124m'\u001b[39m\u001b[38;5;124mreturn_all\u001b[39m\u001b[38;5;124m'\u001b[39m: retall}\n\u001b[0;32m   1658\u001b[0m callback \u001b[38;5;241m=\u001b[39m _wrap_callback(callback)\n\u001b[1;32m-> 1659\u001b[0m res \u001b[38;5;241m=\u001b[39m _minimize_cg(f, x0, args, fprime, callback\u001b[38;5;241m=\u001b[39mcallback, c1\u001b[38;5;241m=\u001b[39mc1, c2\u001b[38;5;241m=\u001b[39mc2,\n\u001b[0;32m   1660\u001b[0m                    \u001b[38;5;241m*\u001b[39m\u001b[38;5;241m*\u001b[39mopts)\n\u001b[0;32m   1662\u001b[0m \u001b[38;5;28;01mif\u001b[39;00m full_output:\n\u001b[0;32m   1663\u001b[0m     retlist \u001b[38;5;241m=\u001b[39m res[\u001b[38;5;124m'\u001b[39m\u001b[38;5;124mx\u001b[39m\u001b[38;5;124m'\u001b[39m], res[\u001b[38;5;124m'\u001b[39m\u001b[38;5;124mfun\u001b[39m\u001b[38;5;124m'\u001b[39m], res[\u001b[38;5;124m'\u001b[39m\u001b[38;5;124mnfev\u001b[39m\u001b[38;5;124m'\u001b[39m], res[\u001b[38;5;124m'\u001b[39m\u001b[38;5;124mnjev\u001b[39m\u001b[38;5;124m'\u001b[39m], res[\u001b[38;5;124m'\u001b[39m\u001b[38;5;124mstatus\u001b[39m\u001b[38;5;124m'\u001b[39m]\n",
      "File \u001b[1;32mc:\\Users\\danit\\anaconda3\\envs\\entornoIA2425\\lib\\site-packages\\scipy\\optimize\\_optimize.py:1723\u001b[0m, in \u001b[0;36m_minimize_cg\u001b[1;34m(fun, x0, args, jac, callback, gtol, norm, eps, maxiter, disp, return_all, finite_diff_rel_step, c1, c2, **unknown_options)\u001b[0m\n\u001b[0;32m   1720\u001b[0m \u001b[38;5;28;01mif\u001b[39;00m maxiter \u001b[38;5;129;01mis\u001b[39;00m \u001b[38;5;28;01mNone\u001b[39;00m:\n\u001b[0;32m   1721\u001b[0m     maxiter \u001b[38;5;241m=\u001b[39m \u001b[38;5;28mlen\u001b[39m(x0) \u001b[38;5;241m*\u001b[39m \u001b[38;5;241m200\u001b[39m\n\u001b[1;32m-> 1723\u001b[0m sf \u001b[38;5;241m=\u001b[39m \u001b[43m_prepare_scalar_function\u001b[49m\u001b[43m(\u001b[49m\u001b[43mfun\u001b[49m\u001b[43m,\u001b[49m\u001b[43m \u001b[49m\u001b[43mx0\u001b[49m\u001b[43m,\u001b[49m\u001b[43m \u001b[49m\u001b[43mjac\u001b[49m\u001b[38;5;241;43m=\u001b[39;49m\u001b[43mjac\u001b[49m\u001b[43m,\u001b[49m\u001b[43m \u001b[49m\u001b[43margs\u001b[49m\u001b[38;5;241;43m=\u001b[39;49m\u001b[43margs\u001b[49m\u001b[43m,\u001b[49m\u001b[43m \u001b[49m\u001b[43mepsilon\u001b[49m\u001b[38;5;241;43m=\u001b[39;49m\u001b[43meps\u001b[49m\u001b[43m,\u001b[49m\n\u001b[0;32m   1724\u001b[0m \u001b[43m                              \u001b[49m\u001b[43mfinite_diff_rel_step\u001b[49m\u001b[38;5;241;43m=\u001b[39;49m\u001b[43mfinite_diff_rel_step\u001b[49m\u001b[43m)\u001b[49m\n\u001b[0;32m   1726\u001b[0m f \u001b[38;5;241m=\u001b[39m sf\u001b[38;5;241m.\u001b[39mfun\n\u001b[0;32m   1727\u001b[0m myfprime \u001b[38;5;241m=\u001b[39m sf\u001b[38;5;241m.\u001b[39mgrad\n",
      "File \u001b[1;32mc:\\Users\\danit\\anaconda3\\envs\\entornoIA2425\\lib\\site-packages\\scipy\\optimize\\_optimize.py:288\u001b[0m, in \u001b[0;36m_prepare_scalar_function\u001b[1;34m(fun, x0, jac, args, bounds, epsilon, finite_diff_rel_step, hess)\u001b[0m\n\u001b[0;32m    284\u001b[0m     bounds \u001b[38;5;241m=\u001b[39m (\u001b[38;5;241m-\u001b[39mnp\u001b[38;5;241m.\u001b[39minf, np\u001b[38;5;241m.\u001b[39minf)\n\u001b[0;32m    286\u001b[0m \u001b[38;5;66;03m# ScalarFunction caches. Reuse of fun(x) during grad\u001b[39;00m\n\u001b[0;32m    287\u001b[0m \u001b[38;5;66;03m# calculation reduces overall function evaluations.\u001b[39;00m\n\u001b[1;32m--> 288\u001b[0m sf \u001b[38;5;241m=\u001b[39m \u001b[43mScalarFunction\u001b[49m\u001b[43m(\u001b[49m\u001b[43mfun\u001b[49m\u001b[43m,\u001b[49m\u001b[43m \u001b[49m\u001b[43mx0\u001b[49m\u001b[43m,\u001b[49m\u001b[43m \u001b[49m\u001b[43margs\u001b[49m\u001b[43m,\u001b[49m\u001b[43m \u001b[49m\u001b[43mgrad\u001b[49m\u001b[43m,\u001b[49m\u001b[43m \u001b[49m\u001b[43mhess\u001b[49m\u001b[43m,\u001b[49m\n\u001b[0;32m    289\u001b[0m \u001b[43m                    \u001b[49m\u001b[43mfinite_diff_rel_step\u001b[49m\u001b[43m,\u001b[49m\u001b[43m \u001b[49m\u001b[43mbounds\u001b[49m\u001b[43m,\u001b[49m\u001b[43m \u001b[49m\u001b[43mepsilon\u001b[49m\u001b[38;5;241;43m=\u001b[39;49m\u001b[43mepsilon\u001b[49m\u001b[43m)\u001b[49m\n\u001b[0;32m    291\u001b[0m \u001b[38;5;28;01mreturn\u001b[39;00m sf\n",
      "File \u001b[1;32mc:\\Users\\danit\\anaconda3\\envs\\entornoIA2425\\lib\\site-packages\\scipy\\optimize\\_differentiable_functions.py:166\u001b[0m, in \u001b[0;36mScalarFunction.__init__\u001b[1;34m(self, fun, x0, args, grad, hess, finite_diff_rel_step, finite_diff_bounds, epsilon)\u001b[0m\n\u001b[0;32m    163\u001b[0m     \u001b[38;5;28mself\u001b[39m\u001b[38;5;241m.\u001b[39mf \u001b[38;5;241m=\u001b[39m fun_wrapped(\u001b[38;5;28mself\u001b[39m\u001b[38;5;241m.\u001b[39mx)\n\u001b[0;32m    165\u001b[0m \u001b[38;5;28mself\u001b[39m\u001b[38;5;241m.\u001b[39m_update_fun_impl \u001b[38;5;241m=\u001b[39m update_fun\n\u001b[1;32m--> 166\u001b[0m \u001b[38;5;28;43mself\u001b[39;49m\u001b[38;5;241;43m.\u001b[39;49m\u001b[43m_update_fun\u001b[49m\u001b[43m(\u001b[49m\u001b[43m)\u001b[49m\n\u001b[0;32m    168\u001b[0m \u001b[38;5;66;03m# Gradient evaluation\u001b[39;00m\n\u001b[0;32m    169\u001b[0m \u001b[38;5;28;01mif\u001b[39;00m \u001b[38;5;28mcallable\u001b[39m(grad):\n",
      "File \u001b[1;32mc:\\Users\\danit\\anaconda3\\envs\\entornoIA2425\\lib\\site-packages\\scipy\\optimize\\_differentiable_functions.py:262\u001b[0m, in \u001b[0;36mScalarFunction._update_fun\u001b[1;34m(self)\u001b[0m\n\u001b[0;32m    260\u001b[0m \u001b[38;5;28;01mdef\u001b[39;00m \u001b[38;5;21m_update_fun\u001b[39m(\u001b[38;5;28mself\u001b[39m):\n\u001b[0;32m    261\u001b[0m     \u001b[38;5;28;01mif\u001b[39;00m \u001b[38;5;129;01mnot\u001b[39;00m \u001b[38;5;28mself\u001b[39m\u001b[38;5;241m.\u001b[39mf_updated:\n\u001b[1;32m--> 262\u001b[0m         \u001b[38;5;28;43mself\u001b[39;49m\u001b[38;5;241;43m.\u001b[39;49m\u001b[43m_update_fun_impl\u001b[49m\u001b[43m(\u001b[49m\u001b[43m)\u001b[49m\n\u001b[0;32m    263\u001b[0m         \u001b[38;5;28mself\u001b[39m\u001b[38;5;241m.\u001b[39mf_updated \u001b[38;5;241m=\u001b[39m \u001b[38;5;28;01mTrue\u001b[39;00m\n",
      "File \u001b[1;32mc:\\Users\\danit\\anaconda3\\envs\\entornoIA2425\\lib\\site-packages\\scipy\\optimize\\_differentiable_functions.py:163\u001b[0m, in \u001b[0;36mScalarFunction.__init__.<locals>.update_fun\u001b[1;34m()\u001b[0m\n\u001b[0;32m    162\u001b[0m \u001b[38;5;28;01mdef\u001b[39;00m \u001b[38;5;21mupdate_fun\u001b[39m():\n\u001b[1;32m--> 163\u001b[0m     \u001b[38;5;28mself\u001b[39m\u001b[38;5;241m.\u001b[39mf \u001b[38;5;241m=\u001b[39m \u001b[43mfun_wrapped\u001b[49m\u001b[43m(\u001b[49m\u001b[38;5;28;43mself\u001b[39;49m\u001b[38;5;241;43m.\u001b[39;49m\u001b[43mx\u001b[49m\u001b[43m)\u001b[49m\n",
      "File \u001b[1;32mc:\\Users\\danit\\anaconda3\\envs\\entornoIA2425\\lib\\site-packages\\scipy\\optimize\\_differentiable_functions.py:145\u001b[0m, in \u001b[0;36mScalarFunction.__init__.<locals>.fun_wrapped\u001b[1;34m(x)\u001b[0m\n\u001b[0;32m    141\u001b[0m \u001b[38;5;28mself\u001b[39m\u001b[38;5;241m.\u001b[39mnfev \u001b[38;5;241m+\u001b[39m\u001b[38;5;241m=\u001b[39m \u001b[38;5;241m1\u001b[39m\n\u001b[0;32m    142\u001b[0m \u001b[38;5;66;03m# Send a copy because the user may overwrite it.\u001b[39;00m\n\u001b[0;32m    143\u001b[0m \u001b[38;5;66;03m# Overwriting results in undefined behaviour because\u001b[39;00m\n\u001b[0;32m    144\u001b[0m \u001b[38;5;66;03m# fun(self.x) will change self.x, with the two no longer linked.\u001b[39;00m\n\u001b[1;32m--> 145\u001b[0m fx \u001b[38;5;241m=\u001b[39m \u001b[43mfun\u001b[49m\u001b[43m(\u001b[49m\u001b[43mnp\u001b[49m\u001b[38;5;241;43m.\u001b[39;49m\u001b[43mcopy\u001b[49m\u001b[43m(\u001b[49m\u001b[43mx\u001b[49m\u001b[43m)\u001b[49m\u001b[43m,\u001b[49m\u001b[43m \u001b[49m\u001b[38;5;241;43m*\u001b[39;49m\u001b[43margs\u001b[49m\u001b[43m)\u001b[49m\n\u001b[0;32m    146\u001b[0m \u001b[38;5;66;03m# Make sure the function returns a true scalar\u001b[39;00m\n\u001b[0;32m    147\u001b[0m \u001b[38;5;28;01mif\u001b[39;00m \u001b[38;5;129;01mnot\u001b[39;00m np\u001b[38;5;241m.\u001b[39misscalar(fx):\n",
      "Cell \u001b[1;32mIn[20], line 20\u001b[0m, in \u001b[0;36mnnCostFunction\u001b[1;34m(nn_params, layer_sizes, X, y)\u001b[0m\n\u001b[0;32m     15\u001b[0m \u001b[38;5;66;03m# Pero es importante transformar y a DataFrame para poder acceder fila por fila\u001b[39;00m\n\u001b[0;32m     16\u001b[0m \n\u001b[0;32m     17\u001b[0m \u001b[38;5;66;03m# Paso 3: Para cada fila\u001b[39;00m\n\u001b[0;32m     18\u001b[0m \u001b[38;5;28;01mfor\u001b[39;00m i \u001b[38;5;129;01min\u001b[39;00m \u001b[38;5;28mrange\u001b[39m(X\u001b[38;5;241m.\u001b[39mshape[\u001b[38;5;241m0\u001b[39m]):\n\u001b[0;32m     19\u001b[0m   \u001b[38;5;66;03m# Paso 3.1: Forward propagation\u001b[39;00m\n\u001b[1;32m---> 20\u001b[0m   activations, h \u001b[38;5;241m=\u001b[39m \u001b[43mforward\u001b[49m\u001b[43m(\u001b[49m\u001b[43mthetas\u001b[49m\u001b[43m,\u001b[49m\u001b[43m \u001b[49m\u001b[43mX\u001b[49m\u001b[43m[\u001b[49m\u001b[43mi\u001b[49m\u001b[43m]\u001b[49m\u001b[43m)\u001b[49m\n\u001b[0;32m     21\u001b[0m   \u001b[38;5;66;03m# Paso 3.2: Coste (como en regresión logística)\u001b[39;00m\n\u001b[0;32m     22\u001b[0m   temp1 \u001b[38;5;241m=\u001b[39m y_d\u001b[38;5;241m.\u001b[39miloc[i] \u001b[38;5;241m*\u001b[39m (np\u001b[38;5;241m.\u001b[39mlog(h))\n",
      "Cell \u001b[1;32mIn[19], line 8\u001b[0m, in \u001b[0;36mforward\u001b[1;34m(thetas, X)\u001b[0m\n\u001b[0;32m      6\u001b[0m \u001b[38;5;66;03m# Iteramos sobre cada capa\u001b[39;00m\n\u001b[0;32m      7\u001b[0m \u001b[38;5;28;01mfor\u001b[39;00m i \u001b[38;5;129;01min\u001b[39;00m \u001b[38;5;28mrange\u001b[39m(\u001b[38;5;28mlen\u001b[39m(thetas)):\n\u001b[1;32m----> 8\u001b[0m     z \u001b[38;5;241m=\u001b[39m \u001b[43mnp\u001b[49m\u001b[38;5;241;43m.\u001b[39;49m\u001b[43mdot\u001b[49m\u001b[43m(\u001b[49m\u001b[43mthetas\u001b[49m\u001b[43m[\u001b[49m\u001b[43mi\u001b[49m\u001b[43m]\u001b[49m\u001b[43m,\u001b[49m\u001b[43m \u001b[49m\u001b[43ma\u001b[49m\u001b[43m)\u001b[49m  \u001b[38;5;66;03m# Producto punto entre los pesos y las activaciones anteriores\u001b[39;00m\n\u001b[0;32m      9\u001b[0m     a \u001b[38;5;241m=\u001b[39m sigmoid(z)  \u001b[38;5;66;03m# Aplicamos la función sigmoide\u001b[39;00m\n\u001b[0;32m     10\u001b[0m     \u001b[38;5;28;01mif\u001b[39;00m i \u001b[38;5;241m<\u001b[39m \u001b[38;5;28mlen\u001b[39m(thetas) \u001b[38;5;241m-\u001b[39m \u001b[38;5;241m1\u001b[39m:  \u001b[38;5;66;03m# Si no es la última capa\u001b[39;00m\n",
      "\u001b[1;31mValueError\u001b[0m: shapes (4,6) and (401,) not aligned: 6 (dim 1) != 401 (dim 0)"
     ]
    }
   ],
   "source": [
    "data = sio.loadmat('datasets/ex4data1.mat')\n",
    "X = data['X']\n",
    "y = data['y']\n",
    "\n",
    "nlayer = [5, 4, 3]\n",
    "thetas = thetasInicial(nlayer)\n",
    "\n",
    "trained_thetas = training(thetas, X, y, nlayer)\n",
    "predictions = predict(trained_thetas, X)\n",
    "print(\"Predicciones: \\n\", predictions)\n"
   ]
  },
  {
   "cell_type": "code",
   "execution_count": null,
   "metadata": {},
   "outputs": [],
   "source": []
  }
 ],
 "metadata": {
  "kernelspec": {
   "display_name": "entornoIA2425",
   "language": "python",
   "name": "python3"
  },
  "language_info": {
   "codemirror_mode": {
    "name": "ipython",
    "version": 3
   },
   "file_extension": ".py",
   "mimetype": "text/x-python",
   "name": "python",
   "nbconvert_exporter": "python",
   "pygments_lexer": "ipython3",
   "version": "3.9.19"
  }
 },
 "nbformat": 4,
 "nbformat_minor": 2
}
