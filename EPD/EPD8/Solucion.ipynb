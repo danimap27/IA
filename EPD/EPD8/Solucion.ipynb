{
 "cells": [
  {
   "cell_type": "markdown",
   "id": "a988d95d-73cb-43ad-bf23-92e25802c578",
   "metadata": {},
   "source": [
    "<table><tbody><tr><th><p><img alt=\"Emblema\" src=\"https://cdn6.aptoide.com/imgs/6/f/4/6f4821daa840da8fe971445350759fe5_icon.png\" style=\"width:150px;\"></p></th><th><p><strong>Inteligencia Artificial</strong></p><p><strong>Grado en Ingeniería Informática en Sistemas de Información – Curso 2024/2025</strong></p><p><strong>ENSEÑANZAS PRÁCTICAS Y DE DESARROLLO</strong></p><h1>EPD 8: Búsqueda Informada</h1></th></tr></tbody></table>\n",
    "\n",
    "____"
   ]
  },
  {
   "attachments": {},
   "cell_type": "markdown",
   "id": "442b2e88-b7fd-468e-9e3f-98f01e284eda",
   "metadata": {},
   "source": [
    "## Objetivos\n",
    "- Resolver problemas de búsquedas informadas con la librería AIMA.\n",
    "- Algoritmos de búsqueda informada en la herramienta Search de AISPACE.\n"
   ]
  },
  {
   "cell_type": "code",
   "execution_count": 1,
   "id": "06a84914-66a2-4bbc-aec7-29a9ebb53da0",
   "metadata": {},
   "outputs": [],
   "source": [
    "import numpy as np\n",
    "import pandas as pd\n",
    "import scipy.io as sio\n",
    "import scipy.optimize as opt\n",
    "import time\n",
    "from search import *"
   ]
  },
  {
   "attachments": {},
   "cell_type": "markdown",
   "id": "7e21bb34-5daa-4db8-a209-0a91e60d908c",
   "metadata": {},
   "source": [
    "## Experimentos\n",
    "\n",
    "#### EX01. \n",
    "Herramienta “Search”. Seleccione en la opción del menú “File” la entrada “Load Sample Problem” y elija la opción “Delivery Robot (acyclic)”. Se puede observar en los nodos que el valor de la heurística corresponde a la siguiente tabla:\n",
    "\n",
    "|              |                |              |\n",
    "|--------------|----------------|--------------|\n",
    "| h(mail) = 26 | h(ts) = 23     | h(o103) = 21 |\n",
    "| h(o109) = 24 | h(o111) = 27   | h(o119) = 11 |\n",
    "| h(o123) = 4  | h(o125) = 6    | h(r123) = 0  |\n",
    "| h(b1) = 13   | h(b2) = 15     | h(b3) = 17   |\n",
    "| h(b4) = 18   | h(c1) = 6      | h(c2) = 10   |\n",
    "| h(c3) = 12   | h(storage) = 12|              |\n",
    "\n",
    "1. ¿Es la función h admisible? Explica por qué o por qué no.\n",
    "2. Finalmente muestra y razona la traza del algoritmo A*.\n",
    "\n",
    "##### Solución:"
   ]
  },
  {
   "cell_type": "markdown",
   "id": "fe6d6d43-9eae-4166-8226-edc0c22c970d",
   "metadata": {},
   "source": [
    "Es admisible porque la heurística nunca sobreestima el coste de llegar al objetivo. En este caso, la heurística es la distancia en línea recta entre el nodo y el objetivo."
   ]
  },
  {
   "attachments": {},
   "cell_type": "markdown",
   "id": "b56a417f-970b-44b6-951b-53daccedcb8f",
   "metadata": {},
   "source": [
    "#### EX02.\n",
    "Utiliza la heurística h de la clase EightPuzzle, de librería AIMA, que indica el número de fichas mal colocadas, para realizar recorridos de búsquedas informadas, como el A*. Compare el tiempo transcurrido en varias ejecuciones con respecto a la búsqueda en anchura.\n"
   ]
  },
  {
   "cell_type": "code",
   "execution_count": 12,
   "id": "6169e022-92f8-4805-a751-45619e7d000f",
   "metadata": {},
   "outputs": [],
   "source": [
    "goal = [1, 2, 3, 4, 5, 6, 7, 8, 0]\n",
    "\n",
    "# Heuristic function for the 8-puzzle problem that returns the number of misplaced tiles\n",
    "def linear(node):\n",
    "    return sum([1 if node.state[i] != goal[i] else 0 for i in range(8)])\n",
    "\n",
    "# Heuristic function for the 8-puzzle problem that returns the sum of the Manhattan distances\n",
    "def manhattan(node):\n",
    "    state = node.state\n",
    "    index_goal = {1: (0, 0), 2: (0, 1), 3: (0, 2), 4: (1, 0), 5: (1, 1), 6: (1, 2), 7: (2, 0), 8: (2, 1)}\n",
    "    index_state = {state[i]: (i // 3, i % 3) for i in range(9)}\n",
    "    return sum([abs(index_state[i][0] - index_goal[i][0]) + abs(index_state[i][1] - index_goal[i][1]) for i in range(1, 9)])\n"
   ]
  },
  {
   "cell_type": "code",
   "execution_count": 13,
   "id": "109654b4-90bb-423c-968c-440b1f2bcaad",
   "metadata": {},
   "outputs": [
    {
     "name": "stdout",
     "output_type": "stream",
     "text": [
      "EightPuzzle Problem\n",
      "Linear heuristic:\n"
     ]
    },
    {
     "ename": "KeyboardInterrupt",
     "evalue": "",
     "output_type": "error",
     "traceback": [
      "\u001b[1;31m---------------------------------------------------------------------------\u001b[0m",
      "\u001b[1;31mKeyboardInterrupt\u001b[0m                         Traceback (most recent call last)",
      "Cell \u001b[1;32mIn[13], line 6\u001b[0m\n\u001b[0;32m      4\u001b[0m \u001b[38;5;28mprint\u001b[39m(\u001b[38;5;124m'\u001b[39m\u001b[38;5;124mLinear heuristic:\u001b[39m\u001b[38;5;124m'\u001b[39m)\n\u001b[0;32m      5\u001b[0m start_time \u001b[38;5;241m=\u001b[39m time\u001b[38;5;241m.\u001b[39mtime()\n\u001b[1;32m----> 6\u001b[0m solution \u001b[38;5;241m=\u001b[39m \u001b[43mastar_search\u001b[49m\u001b[43m(\u001b[49m\u001b[43minitial_state\u001b[49m\u001b[43m,\u001b[49m\u001b[43m \u001b[49m\u001b[43mmanhattan\u001b[49m\u001b[43m)\u001b[49m\n\u001b[0;32m      7\u001b[0m \u001b[38;5;28mprint\u001b[39m(\u001b[38;5;124m'\u001b[39m\u001b[38;5;124mTime:\u001b[39m\u001b[38;5;124m'\u001b[39m, time\u001b[38;5;241m.\u001b[39mtime() \u001b[38;5;241m-\u001b[39m start_time)\n\u001b[0;32m      8\u001b[0m \u001b[38;5;28mprint\u001b[39m(\u001b[38;5;124m'\u001b[39m\u001b[38;5;124mSolution:\u001b[39m\u001b[38;5;124m'\u001b[39m, solution)\n",
      "File \u001b[1;32mc:\\Users\\danit\\OneDrive - Universidad Pablo de Olavide de Sevilla\\UNI\\4º_Curso\\1º Semestre\\IA\\Github\\IA\\EPD\\EPD8\\search.py:420\u001b[0m, in \u001b[0;36mastar_search\u001b[1;34m(problem, h, display)\u001b[0m\n\u001b[0;32m    416\u001b[0m \u001b[38;5;250m\u001b[39m\u001b[38;5;124;03m\"\"\"A* search is best-first graph search with f(n) = g(n)+h(n).\u001b[39;00m\n\u001b[0;32m    417\u001b[0m \u001b[38;5;124;03mYou need to specify the h function when you call astar_search, or\u001b[39;00m\n\u001b[0;32m    418\u001b[0m \u001b[38;5;124;03melse in your Problem subclass.\"\"\"\u001b[39;00m\n\u001b[0;32m    419\u001b[0m h \u001b[38;5;241m=\u001b[39m memoize(h \u001b[38;5;129;01mor\u001b[39;00m problem\u001b[38;5;241m.\u001b[39mh, \u001b[38;5;124m'\u001b[39m\u001b[38;5;124mh\u001b[39m\u001b[38;5;124m'\u001b[39m)\n\u001b[1;32m--> 420\u001b[0m \u001b[38;5;28;01mreturn\u001b[39;00m \u001b[43mbest_first_graph_search\u001b[49m\u001b[43m(\u001b[49m\u001b[43mproblem\u001b[49m\u001b[43m,\u001b[49m\u001b[43m \u001b[49m\u001b[38;5;28;43;01mlambda\u001b[39;49;00m\u001b[43m \u001b[49m\u001b[43mn\u001b[49m\u001b[43m:\u001b[49m\u001b[43m \u001b[49m\u001b[43mn\u001b[49m\u001b[38;5;241;43m.\u001b[39;49m\u001b[43mpath_cost\u001b[49m\u001b[43m \u001b[49m\u001b[38;5;241;43m+\u001b[39;49m\u001b[43m \u001b[49m\u001b[43mh\u001b[49m\u001b[43m(\u001b[49m\u001b[43mn\u001b[49m\u001b[43m)\u001b[49m\u001b[43m,\u001b[49m\u001b[43m \u001b[49m\u001b[43mdisplay\u001b[49m\u001b[43m)\u001b[49m\n",
      "File \u001b[1;32mc:\\Users\\danit\\OneDrive - Universidad Pablo de Olavide de Sevilla\\UNI\\4º_Curso\\1º Semestre\\IA\\Github\\IA\\EPD\\EPD8\\search.py:281\u001b[0m, in \u001b[0;36mbest_first_graph_search\u001b[1;34m(problem, f, display)\u001b[0m\n\u001b[0;32m    279\u001b[0m explored\u001b[38;5;241m.\u001b[39madd(node\u001b[38;5;241m.\u001b[39mstate)\n\u001b[0;32m    280\u001b[0m \u001b[38;5;28;01mfor\u001b[39;00m child \u001b[38;5;129;01min\u001b[39;00m node\u001b[38;5;241m.\u001b[39mexpand(problem):\n\u001b[1;32m--> 281\u001b[0m     \u001b[38;5;28;01mif\u001b[39;00m child\u001b[38;5;241m.\u001b[39mstate \u001b[38;5;129;01mnot\u001b[39;00m \u001b[38;5;129;01min\u001b[39;00m explored \u001b[38;5;129;01mand\u001b[39;00m \u001b[43mchild\u001b[49m\u001b[43m \u001b[49m\u001b[38;5;129;43;01mnot\u001b[39;49;00m\u001b[43m \u001b[49m\u001b[38;5;129;43;01min\u001b[39;49;00m\u001b[43m \u001b[49m\u001b[43mfrontier\u001b[49m:\n\u001b[0;32m    282\u001b[0m         frontier\u001b[38;5;241m.\u001b[39mappend(child)\n\u001b[0;32m    283\u001b[0m     \u001b[38;5;28;01melif\u001b[39;00m child \u001b[38;5;129;01min\u001b[39;00m frontier:\n",
      "File \u001b[1;32mc:\\Users\\danit\\OneDrive - Universidad Pablo de Olavide de Sevilla\\UNI\\4º_Curso\\1º Semestre\\IA\\Github\\IA\\EPD\\EPD8\\utils.py:761\u001b[0m, in \u001b[0;36mPriorityQueue.__contains__\u001b[1;34m(self, key)\u001b[0m\n\u001b[0;32m    759\u001b[0m \u001b[38;5;28;01mdef\u001b[39;00m \u001b[38;5;21m__contains__\u001b[39m(\u001b[38;5;28mself\u001b[39m, key):\n\u001b[0;32m    760\u001b[0m \u001b[38;5;250m    \u001b[39m\u001b[38;5;124;03m\"\"\"Return True if the key is in PriorityQueue.\"\"\"\u001b[39;00m\n\u001b[1;32m--> 761\u001b[0m     \u001b[38;5;28;01mreturn\u001b[39;00m \u001b[38;5;28many\u001b[39m([item \u001b[38;5;241m==\u001b[39m key \u001b[38;5;28;01mfor\u001b[39;00m _, item \u001b[38;5;129;01min\u001b[39;00m \u001b[38;5;28mself\u001b[39m\u001b[38;5;241m.\u001b[39mheap])\n",
      "File \u001b[1;32mc:\\Users\\danit\\OneDrive - Universidad Pablo de Olavide de Sevilla\\UNI\\4º_Curso\\1º Semestre\\IA\\Github\\IA\\EPD\\EPD8\\utils.py:761\u001b[0m, in \u001b[0;36m<listcomp>\u001b[1;34m(.0)\u001b[0m\n\u001b[0;32m    759\u001b[0m \u001b[38;5;28;01mdef\u001b[39;00m \u001b[38;5;21m__contains__\u001b[39m(\u001b[38;5;28mself\u001b[39m, key):\n\u001b[0;32m    760\u001b[0m \u001b[38;5;250m    \u001b[39m\u001b[38;5;124;03m\"\"\"Return True if the key is in PriorityQueue.\"\"\"\u001b[39;00m\n\u001b[1;32m--> 761\u001b[0m     \u001b[38;5;28;01mreturn\u001b[39;00m \u001b[38;5;28many\u001b[39m([item \u001b[38;5;241m==\u001b[39m \u001b[43mkey\u001b[49m \u001b[38;5;28;01mfor\u001b[39;00m _, item \u001b[38;5;129;01min\u001b[39;00m \u001b[38;5;28mself\u001b[39m\u001b[38;5;241m.\u001b[39mheap])\n",
      "\u001b[1;31mKeyboardInterrupt\u001b[0m: "
     ]
    }
   ],
   "source": [
    "print('EightPuzzle Problem')\n",
    "initial_state = EightPuzzle((2, 8, 3, 1, 6, 4, 7, 0, 5))\n",
    "\n",
    "print('Linear heuristic:')\n",
    "start_time = time.time()\n",
    "solution = astar_search(initial_state, manhattan)\n",
    "print('Time:', time.time() - start_time)\n",
    "print('Solution:', solution)"
   ]
  },
  {
   "attachments": {},
   "cell_type": "markdown",
   "id": "33878f40-1f87-4359-ac36-7ef6d3328098",
   "metadata": {},
   "source": [
    "#### EX03.\n",
    "Dada la solución al problema de los tres misioneros y tres caníbales realizada en la práctica anterior, incluya una heurística para poder aplicar las búsquedas informadas.\n"
   ]
  },
  {
   "cell_type": "code",
   "execution_count": 14,
   "id": "db5188ce-3150-4526-929b-01fb93d4b199",
   "metadata": {},
   "outputs": [],
   "source": [
    "class Misioneros(Problem):\n",
    "    \"\"\" Tres misioneros y tres caníbales hacen un viaje juntos, pero el camino está cortado por un rio.\n",
    "    En la orilla encuentran una lancha que los ayuda a pasar, pero sólo puede llevar dos a la vez y\n",
    "    existe el peligro de que, en cualquier orilla, si los caníbales son más numerosos que los misioneros,\n",
    "    estos últimos pueden servir de alimento.  \"\"\"\n",
    "\n",
    "    def getMisioneros(self, state):\n",
    "        \"\"\"Devuelve el número de misioneros a la izquierda del rio\"\"\"\n",
    "\n",
    "        return state[0]\n",
    "\n",
    "    def getCanibales(self, state):\n",
    "        \"\"\"Devuelve el número de canívales a la izquierda del rio\"\"\"\n",
    "\n",
    "        return state[1]\n",
    "\n",
    "    def getBarca(self, state):\n",
    "        \"\"\"Devuelve la orilla del rio en la que se encuentra la barca, 0-derecha o 1-izquierda\"\"\"\n",
    "\n",
    "        return state[2]\n",
    "\n",
    "    def estadoPeligroso(self, m, c):\n",
    "        return ((m < c and m != 0) or (m > c and m != 3))\n",
    "\n",
    "\n",
    "    def canMoveBoat(self, state, where):\n",
    "        retVal = True\n",
    "\n",
    "        if (where == 'M1C1'):\n",
    "            if (self.getBarca(state) == 1):\n",
    "                retVal = ((self.getMisioneros(state) >= 1) and (self.getCanibales(state) >= 1) and\n",
    "                          (not self.estadoPeligroso(self.getMisioneros(state)-1, self.getCanibales(state)-1)))\n",
    "            else:\n",
    "                retVal = ((3-self.getMisioneros(state) >= 1) and (3-self.getCanibales(state) >= 1) and\n",
    "                          (not self.estadoPeligroso(self.getMisioneros(state)+1, self.getCanibales(state)+1)))\n",
    "        elif (where == 'M1C0'):\n",
    "            if (self.getBarca(state) == 1):\n",
    "                retVal = ((self.getMisioneros(state) >= 1) and\n",
    "                          (not self.estadoPeligroso(self.getMisioneros(state)-1, self.getCanibales(state))))\n",
    "            else:\n",
    "                retVal = ((3-self.getMisioneros(state) >= 1) and\n",
    "                          (not self.estadoPeligroso(self.getMisioneros(state)+1, self.getCanibales(state))))\n",
    "        elif (where == 'M0C1'):\n",
    "            if (self.getBarca(state) == 1):\n",
    "                retVal = ((self.getCanibales(state) >= 1) and\n",
    "                          (not self.estadoPeligroso(self.getMisioneros(state), self.getCanibales(state)-1)))\n",
    "            else:\n",
    "                retVal = ((3-self.getCanibales(state) >= 1) and\n",
    "                          (not self.estadoPeligroso(self.getMisioneros(state), self.getCanibales(state)+1)))\n",
    "        elif (where == 'M2C0'):\n",
    "            if (self.getBarca(state) == 1):\n",
    "                retVal = ((self.getMisioneros(state) >= 2) and\n",
    "                          (not self.estadoPeligroso(self.getMisioneros(state)-2, self.getCanibales(state))))\n",
    "            else:\n",
    "                retVal = ((3-self.getMisioneros(state) >= 2) and\n",
    "                          (not self.estadoPeligroso(self.getMisioneros(state)+2, self.getCanibales(state))))\n",
    "        elif (where == 'M0C2'):\n",
    "            if (self.getBarca(state) == 1):\n",
    "                retVal = ((self.getCanibales(state) >= 2) and\n",
    "                          (not self.estadoPeligroso(self.getMisioneros(state), self.getCanibales(state)-2)))\n",
    "            else:\n",
    "                retVal = ((3-self.getCanibales(state) >= 2) and\n",
    "                          (not self.estadoPeligroso(self.getMisioneros(state), self.getCanibales(state)+2)))\n",
    "\n",
    "        return retVal;\n",
    "\n",
    "    def moveBoatM1C1(self,state):\n",
    "        if (self.getBarca(state) == 1):\n",
    "            state[2] = 0\n",
    "            state[0] -= 1\n",
    "            state[1] -= 1\n",
    "        else:\n",
    "            state[2] = 1\n",
    "            state[0] += 1\n",
    "            state[1] += 1\n",
    "\n",
    "    def moveBoatM1C0(self,state):\n",
    "        if (self.getBarca(state) == 1):\n",
    "            state[2] = 0\n",
    "            state[0] -= 1\n",
    "        else:\n",
    "            state[2] = 1\n",
    "            state[0] += 1\n",
    "\n",
    "    def moveBoatM0C1(self,state):\n",
    "        if (self.getBarca(state) == 1):\n",
    "            state[2] = 0\n",
    "            state[1] -= 1\n",
    "        else:\n",
    "            state[2] = 1\n",
    "            state[1] += 1\n",
    "\n",
    "    def moveBoatM2C0(self,state):\n",
    "        if (self.getBarca(state) == 1):\n",
    "            state[2] = 0\n",
    "            state[0] -= 2\n",
    "        else:\n",
    "            state[2] = 1\n",
    "            state[0] += 2\n",
    "\n",
    "    def moveBoatM0C2(self,state):\n",
    "        if (self.getBarca(state) == 1):\n",
    "            state[2] = 0\n",
    "            state[1] -= 2\n",
    "        else:\n",
    "            state[2] = 1\n",
    "            state[1] += 2\n",
    "\n",
    "\n",
    "    def __init__(self, initial=(3, 3, 1), goal=(0, 0, 0)):\n",
    "        \"\"\" Define goal state and initialize a problem \"\"\"\n",
    "        super().__init__(initial, goal)\n",
    "\n",
    "    def actions(self, state):\n",
    "        \"\"\" Return the actions that can be executed in the given state.\n",
    "        The result would be a list, since there are only four possible actions\n",
    "        in any given state of the environment \"\"\"\n",
    "\n",
    "        possible_actions = []\n",
    "\n",
    "        if self.canMoveBoat(state,'M1C1'):\n",
    "            possible_actions.append('M1C1')\n",
    "        if self.canMoveBoat(state,'M1C0'):\n",
    "            possible_actions.append('M1C0')\n",
    "        if self.canMoveBoat(state,'M0C1'):\n",
    "            possible_actions.append('M0C1')\n",
    "        if self.canMoveBoat(state,'M2C0'):\n",
    "            possible_actions.append('M2C0')\n",
    "        if self.canMoveBoat(state,'M0C2'):\n",
    "            possible_actions.append('M0C2')\n",
    "\n",
    "        return possible_actions\n",
    "\n",
    "    def result(self, state, action):\n",
    "        \"\"\" Given state and action, return a new state that is the result of the action.\n",
    "        Action is assumed to be a valid action in the state \"\"\"\n",
    "\n",
    "        new_state = list(state)\n",
    "\n",
    "        if (action == 'M1C1'):\n",
    "            self.moveBoatM1C1(new_state)\n",
    "        elif (action == 'M1C0'):\n",
    "            self.moveBoatM1C0(new_state)\n",
    "        elif (action == 'M0C1'):\n",
    "            self.moveBoatM0C1(new_state)\n",
    "        elif (action == 'M2C0'):\n",
    "            self.moveBoatM2C0(new_state)\n",
    "        elif (action == 'M0C2'):\n",
    "            self.moveBoatM0C2(new_state)\n",
    "\n",
    "        return tuple(new_state)\n",
    "\n",
    "    def goal_test(self, state):\n",
    "        \"\"\" Given a state, return True if state is a goal state or False, otherwise \"\"\"\n",
    "\n",
    "        return state == self.goal\n"
   ]
  },
  {
   "cell_type": "code",
   "execution_count": 21,
   "id": "482dc0b0-4119-4b6e-91b7-7489707915f0",
   "metadata": {},
   "outputs": [],
   "source": [
    "def h(self, node):\n",
    "    \"\"\" Return the heuristic value for a given state.\"\"\"\n",
    "    return self.getMisioneros(node.state) + self.getCanibales(node.state)   # Asumimos que el objetivo es llegar a la orilla derecha"
   ]
  },
  {
   "cell_type": "code",
   "execution_count": 22,
   "id": "7e1ebd88-3f05-4a08-8974-a410bca1a9d6",
   "metadata": {},
   "outputs": [
    {
     "ename": "TypeError",
     "evalue": "h() missing 1 required positional argument: 'node'",
     "output_type": "error",
     "traceback": [
      "\u001b[1;31m---------------------------------------------------------------------------\u001b[0m",
      "\u001b[1;31mTypeError\u001b[0m                                 Traceback (most recent call last)",
      "Cell \u001b[1;32mIn[22], line 1\u001b[0m\n\u001b[1;32m----> 1\u001b[0m \u001b[43mastar_search\u001b[49m\u001b[43m(\u001b[49m\u001b[43mMisioneros\u001b[49m\u001b[43m(\u001b[49m\u001b[43m(\u001b[49m\u001b[38;5;241;43m3\u001b[39;49m\u001b[43m,\u001b[49m\u001b[43m \u001b[49m\u001b[38;5;241;43m3\u001b[39;49m\u001b[43m,\u001b[49m\u001b[43m \u001b[49m\u001b[38;5;241;43m1\u001b[39;49m\u001b[43m)\u001b[49m\u001b[43m,\u001b[49m\u001b[43m \u001b[49m\u001b[43m(\u001b[49m\u001b[38;5;241;43m0\u001b[39;49m\u001b[43m,\u001b[49m\u001b[43m \u001b[49m\u001b[38;5;241;43m0\u001b[39;49m\u001b[43m,\u001b[49m\u001b[43m \u001b[49m\u001b[38;5;241;43m0\u001b[39;49m\u001b[43m)\u001b[49m\u001b[43m)\u001b[49m\u001b[43m,\u001b[49m\u001b[43mh\u001b[49m\u001b[43m)\u001b[49m\u001b[38;5;241m.\u001b[39msolution()\n",
      "File \u001b[1;32mc:\\Users\\danit\\OneDrive - Universidad Pablo de Olavide de Sevilla\\UNI\\4º_Curso\\1º Semestre\\IA\\Github\\IA\\EPD\\EPD8\\search.py:420\u001b[0m, in \u001b[0;36mastar_search\u001b[1;34m(problem, h, display)\u001b[0m\n\u001b[0;32m    416\u001b[0m \u001b[38;5;250m\u001b[39m\u001b[38;5;124;03m\"\"\"A* search is best-first graph search with f(n) = g(n)+h(n).\u001b[39;00m\n\u001b[0;32m    417\u001b[0m \u001b[38;5;124;03mYou need to specify the h function when you call astar_search, or\u001b[39;00m\n\u001b[0;32m    418\u001b[0m \u001b[38;5;124;03melse in your Problem subclass.\"\"\"\u001b[39;00m\n\u001b[0;32m    419\u001b[0m h \u001b[38;5;241m=\u001b[39m memoize(h \u001b[38;5;129;01mor\u001b[39;00m problem\u001b[38;5;241m.\u001b[39mh, \u001b[38;5;124m'\u001b[39m\u001b[38;5;124mh\u001b[39m\u001b[38;5;124m'\u001b[39m)\n\u001b[1;32m--> 420\u001b[0m \u001b[38;5;28;01mreturn\u001b[39;00m \u001b[43mbest_first_graph_search\u001b[49m\u001b[43m(\u001b[49m\u001b[43mproblem\u001b[49m\u001b[43m,\u001b[49m\u001b[43m \u001b[49m\u001b[38;5;28;43;01mlambda\u001b[39;49;00m\u001b[43m \u001b[49m\u001b[43mn\u001b[49m\u001b[43m:\u001b[49m\u001b[43m \u001b[49m\u001b[43mn\u001b[49m\u001b[38;5;241;43m.\u001b[39;49m\u001b[43mpath_cost\u001b[49m\u001b[43m \u001b[49m\u001b[38;5;241;43m+\u001b[39;49m\u001b[43m \u001b[49m\u001b[43mh\u001b[49m\u001b[43m(\u001b[49m\u001b[43mn\u001b[49m\u001b[43m)\u001b[49m\u001b[43m,\u001b[49m\u001b[43m \u001b[49m\u001b[43mdisplay\u001b[49m\u001b[43m)\u001b[49m\n",
      "File \u001b[1;32mc:\\Users\\danit\\OneDrive - Universidad Pablo de Olavide de Sevilla\\UNI\\4º_Curso\\1º Semestre\\IA\\Github\\IA\\EPD\\EPD8\\search.py:271\u001b[0m, in \u001b[0;36mbest_first_graph_search\u001b[1;34m(problem, f, display)\u001b[0m\n\u001b[0;32m    269\u001b[0m node \u001b[38;5;241m=\u001b[39m Node(problem\u001b[38;5;241m.\u001b[39minitial)\n\u001b[0;32m    270\u001b[0m frontier \u001b[38;5;241m=\u001b[39m PriorityQueue(\u001b[38;5;124m'\u001b[39m\u001b[38;5;124mmin\u001b[39m\u001b[38;5;124m'\u001b[39m, f)\n\u001b[1;32m--> 271\u001b[0m \u001b[43mfrontier\u001b[49m\u001b[38;5;241;43m.\u001b[39;49m\u001b[43mappend\u001b[49m\u001b[43m(\u001b[49m\u001b[43mnode\u001b[49m\u001b[43m)\u001b[49m\n\u001b[0;32m    272\u001b[0m explored \u001b[38;5;241m=\u001b[39m \u001b[38;5;28mset\u001b[39m()\n\u001b[0;32m    273\u001b[0m \u001b[38;5;28;01mwhile\u001b[39;00m frontier:\n",
      "File \u001b[1;32mc:\\Users\\danit\\OneDrive - Universidad Pablo de Olavide de Sevilla\\UNI\\4º_Curso\\1º Semestre\\IA\\Github\\IA\\EPD\\EPD8\\utils.py:740\u001b[0m, in \u001b[0;36mPriorityQueue.append\u001b[1;34m(self, item)\u001b[0m\n\u001b[0;32m    738\u001b[0m \u001b[38;5;28;01mdef\u001b[39;00m \u001b[38;5;21mappend\u001b[39m(\u001b[38;5;28mself\u001b[39m, item):\n\u001b[0;32m    739\u001b[0m \u001b[38;5;250m    \u001b[39m\u001b[38;5;124;03m\"\"\"Insert item at its correct position.\"\"\"\u001b[39;00m\n\u001b[1;32m--> 740\u001b[0m     heapq\u001b[38;5;241m.\u001b[39mheappush(\u001b[38;5;28mself\u001b[39m\u001b[38;5;241m.\u001b[39mheap, (\u001b[38;5;28;43mself\u001b[39;49m\u001b[38;5;241;43m.\u001b[39;49m\u001b[43mf\u001b[49m\u001b[43m(\u001b[49m\u001b[43mitem\u001b[49m\u001b[43m)\u001b[49m, item))\n",
      "File \u001b[1;32mc:\\Users\\danit\\OneDrive - Universidad Pablo de Olavide de Sevilla\\UNI\\4º_Curso\\1º Semestre\\IA\\Github\\IA\\EPD\\EPD8\\utils.py:417\u001b[0m, in \u001b[0;36mmemoize.<locals>.memoized_fn\u001b[1;34m(obj, *args)\u001b[0m\n\u001b[0;32m    415\u001b[0m     \u001b[38;5;28;01mreturn\u001b[39;00m \u001b[38;5;28mgetattr\u001b[39m(obj, slot)\n\u001b[0;32m    416\u001b[0m \u001b[38;5;28;01melse\u001b[39;00m:\n\u001b[1;32m--> 417\u001b[0m     val \u001b[38;5;241m=\u001b[39m \u001b[43mfn\u001b[49m\u001b[43m(\u001b[49m\u001b[43mobj\u001b[49m\u001b[43m,\u001b[49m\u001b[43m \u001b[49m\u001b[38;5;241;43m*\u001b[39;49m\u001b[43margs\u001b[49m\u001b[43m)\u001b[49m\n\u001b[0;32m    418\u001b[0m     \u001b[38;5;28msetattr\u001b[39m(obj, slot, val)\n\u001b[0;32m    419\u001b[0m     \u001b[38;5;28;01mreturn\u001b[39;00m val\n",
      "File \u001b[1;32mc:\\Users\\danit\\OneDrive - Universidad Pablo de Olavide de Sevilla\\UNI\\4º_Curso\\1º Semestre\\IA\\Github\\IA\\EPD\\EPD8\\search.py:420\u001b[0m, in \u001b[0;36mastar_search.<locals>.<lambda>\u001b[1;34m(n)\u001b[0m\n\u001b[0;32m    416\u001b[0m \u001b[38;5;250m\u001b[39m\u001b[38;5;124;03m\"\"\"A* search is best-first graph search with f(n) = g(n)+h(n).\u001b[39;00m\n\u001b[0;32m    417\u001b[0m \u001b[38;5;124;03mYou need to specify the h function when you call astar_search, or\u001b[39;00m\n\u001b[0;32m    418\u001b[0m \u001b[38;5;124;03melse in your Problem subclass.\"\"\"\u001b[39;00m\n\u001b[0;32m    419\u001b[0m h \u001b[38;5;241m=\u001b[39m memoize(h \u001b[38;5;129;01mor\u001b[39;00m problem\u001b[38;5;241m.\u001b[39mh, \u001b[38;5;124m'\u001b[39m\u001b[38;5;124mh\u001b[39m\u001b[38;5;124m'\u001b[39m)\n\u001b[1;32m--> 420\u001b[0m \u001b[38;5;28;01mreturn\u001b[39;00m best_first_graph_search(problem, \u001b[38;5;28;01mlambda\u001b[39;00m n: n\u001b[38;5;241m.\u001b[39mpath_cost \u001b[38;5;241m+\u001b[39m \u001b[43mh\u001b[49m\u001b[43m(\u001b[49m\u001b[43mn\u001b[49m\u001b[43m)\u001b[49m, display)\n",
      "File \u001b[1;32mc:\\Users\\danit\\OneDrive - Universidad Pablo de Olavide de Sevilla\\UNI\\4º_Curso\\1º Semestre\\IA\\Github\\IA\\EPD\\EPD8\\utils.py:417\u001b[0m, in \u001b[0;36mmemoize.<locals>.memoized_fn\u001b[1;34m(obj, *args)\u001b[0m\n\u001b[0;32m    415\u001b[0m     \u001b[38;5;28;01mreturn\u001b[39;00m \u001b[38;5;28mgetattr\u001b[39m(obj, slot)\n\u001b[0;32m    416\u001b[0m \u001b[38;5;28;01melse\u001b[39;00m:\n\u001b[1;32m--> 417\u001b[0m     val \u001b[38;5;241m=\u001b[39m \u001b[43mfn\u001b[49m\u001b[43m(\u001b[49m\u001b[43mobj\u001b[49m\u001b[43m,\u001b[49m\u001b[43m \u001b[49m\u001b[38;5;241;43m*\u001b[39;49m\u001b[43margs\u001b[49m\u001b[43m)\u001b[49m\n\u001b[0;32m    418\u001b[0m     \u001b[38;5;28msetattr\u001b[39m(obj, slot, val)\n\u001b[0;32m    419\u001b[0m     \u001b[38;5;28;01mreturn\u001b[39;00m val\n",
      "\u001b[1;31mTypeError\u001b[0m: h() missing 1 required positional argument: 'node'"
     ]
    }
   ],
   "source": [
    "astar_search(Misioneros((3, 3, 1), (0, 0, 0)),h).solution()"
   ]
  },
  {
   "cell_type": "markdown",
   "id": "1b0e674b-e4ea-4267-b9c1-5c1251a1ad9b",
   "metadata": {},
   "source": [
    "## Ejercicios\n",
    "#### EJ01.\n",
    "Escriba en Python un programa que encuentre un camino a través de un laberinto dada una posición inicial y final. El laberinto se puede representar mediante una matriz de caracteres como la que aparece a continuación, de manera que el carácter ‘O’ indica el pasillo por el que se puede pasar y el carácter ‘X’ el muro. Suponer que la posición de partida esta situada en la quinta fila y la primera columna, y la posición final en la primera fila y última columna. Sólo se permiten movimientos en horizontal y en vertical, no en diagonal. Incorporar una heurística y probar con las búsquedas informadas y no informadas vistas en clase. ¿Qué ocurre si se cambia el orden de los operadores? Pruebe con otro laberinto más complejo.\n",
    "\n",
    "<img src=\"attachment:9decafd6-8b02-4285-9ce2-39344412ab9b.jpg\" width=\"200\" />\n",
    "\n",
    "##### Solución:"
   ]
  },
  {
   "cell_type": "code",
   "execution_count": 23,
   "id": "577889ed-fbec-4436-850c-add9e38b9365",
   "metadata": {},
   "outputs": [],
   "source": [
    "mapa = (('O', 'X', 'O', 'O', 'O', 'X', 'X', 'O', 'X', 'O'),\n",
    "        ('O', 'X', 'O', 'X', 'O', 'O', 'O', 'O', 'X', 'O'),\n",
    "        ('O', 'X', 'O', 'X', 'O', 'X', 'X', 'X', 'X', 'O'),\n",
    "        ('O', 'X', 'O', 'X', 'X', 'X', 'O', 'O', 'O', 'O'),\n",
    "        ('O', 'O', 'O', 'O', 'O', 'X', 'O', 'X', 'O', 'X'),\n",
    "        ('O', 'X', 'X', 'X', 'O', 'X', 'O', 'X', 'O', 'X'),\n",
    "        ('O', 'X', 'O', 'O', 'O', 'X', 'O', 'X', 'O', 'X'),\n",
    "        ('O', 'X', 'O', 'X', 'X', 'X', 'O', 'X', 'O', 'X'),\n",
    "        ('O', 'X', 'O', 'O', 'O', 'O', 'O', 'X', 'O', 'X'),\n",
    "        ('O', 'X', 'O', 'X', 'X', 'X', 'X', 'X', 'O', 'X'))\n",
    "\n",
    "class Laberinto(Problem):\n",
    "    \"\"\" Problema del laberinto donde un robot iría desde una posición de entrada a una de salida \"\"\"\n",
    "    \n",
    "    def __init__(self, initial=(4,0), goal=(0,9)):\n",
    "        super().__init__(initial, goal)\n",
    "\n",
    "    def canMoveLab(self, state, where):\n",
    "            retVal = True\n",
    "            \n",
    "            if(where == 'LEFT'):\n",
    "                retVal = ((state[1] != 0) and (mapa[state[0]][state[1]-1] != 'X'))\n",
    "            elif(where == 'RIGHT'):\n",
    "                retVal = ((state[1] != 9) and (mapa[state[0]][state[1]+1] != 'X'))\n",
    "            elif(where == 'UP'):\n",
    "                retVal = ((state[0] != 0) and (mapa[state[0]-1][state[1]] != 'X'))\n",
    "            elif(where == 'DOWN'):\n",
    "                retVal = ((state[0] != 9) and (mapa[state[0]+1][state[1]] != 'X')) \n",
    "            \n",
    "            return retVal\n",
    "    \n",
    "    def action(self, state):\n",
    "        possible_actions = []\n",
    "        \n",
    "        if self.canMoveLab(state,'LEFT'):\n",
    "            possible_actions.append('LEFT')\n",
    "        if self.canMoveLab(state,'RIGHT'):\n",
    "            possible_actions.append('RIGHT')\n",
    "        if self.canMoveLab(state,'UP'):\n",
    "            possible_actions.append('UP')\n",
    "        if self.canMoveLab(state,'DOWN'):\n",
    "            possible_actions.append('DOWN')\n",
    "            \n",
    "        return possible_actions\n",
    "\n",
    "    def result(self, state, action):\n",
    "        new_state = list(state)\n",
    "                \n",
    "        if(action == 'LEFT'):\n",
    "                new_state[1] -= 1\n",
    "        elif(action == 'RIGHT'):\n",
    "                 new_state[1] += 1\n",
    "        elif(action == 'UP'):\n",
    "                 new_state[0] -= 1\n",
    "        elif(action == 'DOWN'):\n",
    "                 new_state[0] += 1\n",
    "                        \n",
    "        return tuple(new_state)\n",
    "\n",
    "    def goal_test(self, state):\n",
    "        return state == self.goal\n",
    "\n",
    "    def h(self, node):\n",
    "        return abs(node.goal[0] - self.state[0]) + abs(node.goal[1] - self.state[1])            "
   ]
  },
  {
   "cell_type": "code",
   "execution_count": 26,
   "id": "d6aa0feb-64fa-4ec6-918d-4fd63ae9fd95",
   "metadata": {},
   "outputs": [
    {
     "ename": "TypeError",
     "evalue": "h() missing 1 required positional argument: 'node'",
     "output_type": "error",
     "traceback": [
      "\u001b[1;31m---------------------------------------------------------------------------\u001b[0m",
      "\u001b[1;31mTypeError\u001b[0m                                 Traceback (most recent call last)",
      "Cell \u001b[1;32mIn[26], line 2\u001b[0m\n\u001b[0;32m      1\u001b[0m lab \u001b[38;5;241m=\u001b[39m Laberinto(mapa)\n\u001b[1;32m----> 2\u001b[0m \u001b[43mastar_search\u001b[49m\u001b[43m(\u001b[49m\u001b[43mlab\u001b[49m\u001b[43m,\u001b[49m\u001b[43m \u001b[49m\u001b[43mh\u001b[49m\u001b[43m)\u001b[49m\u001b[38;5;241m.\u001b[39msolution()\n",
      "File \u001b[1;32mc:\\Users\\danit\\OneDrive - Universidad Pablo de Olavide de Sevilla\\UNI\\4º_Curso\\1º Semestre\\IA\\Github\\IA\\EPD\\EPD8\\search.py:420\u001b[0m, in \u001b[0;36mastar_search\u001b[1;34m(problem, h, display)\u001b[0m\n\u001b[0;32m    416\u001b[0m \u001b[38;5;250m\u001b[39m\u001b[38;5;124;03m\"\"\"A* search is best-first graph search with f(n) = g(n)+h(n).\u001b[39;00m\n\u001b[0;32m    417\u001b[0m \u001b[38;5;124;03mYou need to specify the h function when you call astar_search, or\u001b[39;00m\n\u001b[0;32m    418\u001b[0m \u001b[38;5;124;03melse in your Problem subclass.\"\"\"\u001b[39;00m\n\u001b[0;32m    419\u001b[0m h \u001b[38;5;241m=\u001b[39m memoize(h \u001b[38;5;129;01mor\u001b[39;00m problem\u001b[38;5;241m.\u001b[39mh, \u001b[38;5;124m'\u001b[39m\u001b[38;5;124mh\u001b[39m\u001b[38;5;124m'\u001b[39m)\n\u001b[1;32m--> 420\u001b[0m \u001b[38;5;28;01mreturn\u001b[39;00m \u001b[43mbest_first_graph_search\u001b[49m\u001b[43m(\u001b[49m\u001b[43mproblem\u001b[49m\u001b[43m,\u001b[49m\u001b[43m \u001b[49m\u001b[38;5;28;43;01mlambda\u001b[39;49;00m\u001b[43m \u001b[49m\u001b[43mn\u001b[49m\u001b[43m:\u001b[49m\u001b[43m \u001b[49m\u001b[43mn\u001b[49m\u001b[38;5;241;43m.\u001b[39;49m\u001b[43mpath_cost\u001b[49m\u001b[43m \u001b[49m\u001b[38;5;241;43m+\u001b[39;49m\u001b[43m \u001b[49m\u001b[43mh\u001b[49m\u001b[43m(\u001b[49m\u001b[43mn\u001b[49m\u001b[43m)\u001b[49m\u001b[43m,\u001b[49m\u001b[43m \u001b[49m\u001b[43mdisplay\u001b[49m\u001b[43m)\u001b[49m\n",
      "File \u001b[1;32mc:\\Users\\danit\\OneDrive - Universidad Pablo de Olavide de Sevilla\\UNI\\4º_Curso\\1º Semestre\\IA\\Github\\IA\\EPD\\EPD8\\search.py:271\u001b[0m, in \u001b[0;36mbest_first_graph_search\u001b[1;34m(problem, f, display)\u001b[0m\n\u001b[0;32m    269\u001b[0m node \u001b[38;5;241m=\u001b[39m Node(problem\u001b[38;5;241m.\u001b[39minitial)\n\u001b[0;32m    270\u001b[0m frontier \u001b[38;5;241m=\u001b[39m PriorityQueue(\u001b[38;5;124m'\u001b[39m\u001b[38;5;124mmin\u001b[39m\u001b[38;5;124m'\u001b[39m, f)\n\u001b[1;32m--> 271\u001b[0m \u001b[43mfrontier\u001b[49m\u001b[38;5;241;43m.\u001b[39;49m\u001b[43mappend\u001b[49m\u001b[43m(\u001b[49m\u001b[43mnode\u001b[49m\u001b[43m)\u001b[49m\n\u001b[0;32m    272\u001b[0m explored \u001b[38;5;241m=\u001b[39m \u001b[38;5;28mset\u001b[39m()\n\u001b[0;32m    273\u001b[0m \u001b[38;5;28;01mwhile\u001b[39;00m frontier:\n",
      "File \u001b[1;32mc:\\Users\\danit\\OneDrive - Universidad Pablo de Olavide de Sevilla\\UNI\\4º_Curso\\1º Semestre\\IA\\Github\\IA\\EPD\\EPD8\\utils.py:740\u001b[0m, in \u001b[0;36mPriorityQueue.append\u001b[1;34m(self, item)\u001b[0m\n\u001b[0;32m    738\u001b[0m \u001b[38;5;28;01mdef\u001b[39;00m \u001b[38;5;21mappend\u001b[39m(\u001b[38;5;28mself\u001b[39m, item):\n\u001b[0;32m    739\u001b[0m \u001b[38;5;250m    \u001b[39m\u001b[38;5;124;03m\"\"\"Insert item at its correct position.\"\"\"\u001b[39;00m\n\u001b[1;32m--> 740\u001b[0m     heapq\u001b[38;5;241m.\u001b[39mheappush(\u001b[38;5;28mself\u001b[39m\u001b[38;5;241m.\u001b[39mheap, (\u001b[38;5;28;43mself\u001b[39;49m\u001b[38;5;241;43m.\u001b[39;49m\u001b[43mf\u001b[49m\u001b[43m(\u001b[49m\u001b[43mitem\u001b[49m\u001b[43m)\u001b[49m, item))\n",
      "File \u001b[1;32mc:\\Users\\danit\\OneDrive - Universidad Pablo de Olavide de Sevilla\\UNI\\4º_Curso\\1º Semestre\\IA\\Github\\IA\\EPD\\EPD8\\utils.py:417\u001b[0m, in \u001b[0;36mmemoize.<locals>.memoized_fn\u001b[1;34m(obj, *args)\u001b[0m\n\u001b[0;32m    415\u001b[0m     \u001b[38;5;28;01mreturn\u001b[39;00m \u001b[38;5;28mgetattr\u001b[39m(obj, slot)\n\u001b[0;32m    416\u001b[0m \u001b[38;5;28;01melse\u001b[39;00m:\n\u001b[1;32m--> 417\u001b[0m     val \u001b[38;5;241m=\u001b[39m \u001b[43mfn\u001b[49m\u001b[43m(\u001b[49m\u001b[43mobj\u001b[49m\u001b[43m,\u001b[49m\u001b[43m \u001b[49m\u001b[38;5;241;43m*\u001b[39;49m\u001b[43margs\u001b[49m\u001b[43m)\u001b[49m\n\u001b[0;32m    418\u001b[0m     \u001b[38;5;28msetattr\u001b[39m(obj, slot, val)\n\u001b[0;32m    419\u001b[0m     \u001b[38;5;28;01mreturn\u001b[39;00m val\n",
      "File \u001b[1;32mc:\\Users\\danit\\OneDrive - Universidad Pablo de Olavide de Sevilla\\UNI\\4º_Curso\\1º Semestre\\IA\\Github\\IA\\EPD\\EPD8\\search.py:420\u001b[0m, in \u001b[0;36mastar_search.<locals>.<lambda>\u001b[1;34m(n)\u001b[0m\n\u001b[0;32m    416\u001b[0m \u001b[38;5;250m\u001b[39m\u001b[38;5;124;03m\"\"\"A* search is best-first graph search with f(n) = g(n)+h(n).\u001b[39;00m\n\u001b[0;32m    417\u001b[0m \u001b[38;5;124;03mYou need to specify the h function when you call astar_search, or\u001b[39;00m\n\u001b[0;32m    418\u001b[0m \u001b[38;5;124;03melse in your Problem subclass.\"\"\"\u001b[39;00m\n\u001b[0;32m    419\u001b[0m h \u001b[38;5;241m=\u001b[39m memoize(h \u001b[38;5;129;01mor\u001b[39;00m problem\u001b[38;5;241m.\u001b[39mh, \u001b[38;5;124m'\u001b[39m\u001b[38;5;124mh\u001b[39m\u001b[38;5;124m'\u001b[39m)\n\u001b[1;32m--> 420\u001b[0m \u001b[38;5;28;01mreturn\u001b[39;00m best_first_graph_search(problem, \u001b[38;5;28;01mlambda\u001b[39;00m n: n\u001b[38;5;241m.\u001b[39mpath_cost \u001b[38;5;241m+\u001b[39m \u001b[43mh\u001b[49m\u001b[43m(\u001b[49m\u001b[43mn\u001b[49m\u001b[43m)\u001b[49m, display)\n",
      "File \u001b[1;32mc:\\Users\\danit\\OneDrive - Universidad Pablo de Olavide de Sevilla\\UNI\\4º_Curso\\1º Semestre\\IA\\Github\\IA\\EPD\\EPD8\\utils.py:417\u001b[0m, in \u001b[0;36mmemoize.<locals>.memoized_fn\u001b[1;34m(obj, *args)\u001b[0m\n\u001b[0;32m    415\u001b[0m     \u001b[38;5;28;01mreturn\u001b[39;00m \u001b[38;5;28mgetattr\u001b[39m(obj, slot)\n\u001b[0;32m    416\u001b[0m \u001b[38;5;28;01melse\u001b[39;00m:\n\u001b[1;32m--> 417\u001b[0m     val \u001b[38;5;241m=\u001b[39m \u001b[43mfn\u001b[49m\u001b[43m(\u001b[49m\u001b[43mobj\u001b[49m\u001b[43m,\u001b[49m\u001b[43m \u001b[49m\u001b[38;5;241;43m*\u001b[39;49m\u001b[43margs\u001b[49m\u001b[43m)\u001b[49m\n\u001b[0;32m    418\u001b[0m     \u001b[38;5;28msetattr\u001b[39m(obj, slot, val)\n\u001b[0;32m    419\u001b[0m     \u001b[38;5;28;01mreturn\u001b[39;00m val\n",
      "\u001b[1;31mTypeError\u001b[0m: h() missing 1 required positional argument: 'node'"
     ]
    }
   ],
   "source": [
    "lab = Laberinto(mapa)\n",
    "astar_search(lab, h).solution()"
   ]
  },
  {
   "attachments": {
    "010dcadd-e1c3-4e3a-a2d4-43266d519dbc.png": {
     "image/png": "[encoded data removed]"
    },
    "39237500-e891-4658-ae7d-d4cf6712e2f9.png": {
     "image/png": "[encoded data removed]"
    }
   },
   "cell_type": "markdown",
   "id": "65c448f6-f52a-41d0-a181-e3beefd65342",
   "metadata": {},
   "source": [
    "#### EJ02.\n",
    "Introduzca en la herramienta “Search” el problema que la figura siguiente representa, donde “S” es el nodo de comienzo y “G”\n",
    "el nodo objetivo. Recorrer el grafo utilizando el algoritmo A* teniendo en cuenta los costes indicados en cada arco y el valor heurístico\n",
    "descrito en la tabla.\n",
    "\n",
    "![image.png](attachment:010dcadd-e1c3-4e3a-a2d4-43266d519dbc.png)\n",
    "\n",
    "![image.png](attachment:39237500-e891-4658-ae7d-d4cf6712e2f9.png)"
   ]
  },
  {
   "cell_type": "markdown",
   "id": "8c9911c5-0940-47a1-8af5-aa6fb73f5d6c",
   "metadata": {},
   "source": [
    "## Problemas\n",
    "#### P01.\n",
    "Crear el grafo correspondiente al mapa simplificado de Rumanía vista en clase de Enseñanzas básicas, no olvidando la distancia existente entre las distintas ciudades, y utilizando la distancia en línea recta desde Arad a Bucharest como valor de la heurística. A continuación, siga paso a paso el recorrido de la búsqueda “A*”. Finalmente, compárelo con los recorridos realizados por los algoritmos de búsqueda no informada.\n",
    "\n",
    "##### Solución:"
   ]
  },
  {
   "cell_type": "code",
   "execution_count": null,
   "id": "7064798d-5104-49c6-a9f4-92619f26e52e",
   "metadata": {},
   "outputs": [],
   "source": []
  },
  {
   "cell_type": "markdown",
   "id": "043530dd-3aff-4309-a665-d54522390f8a",
   "metadata": {},
   "source": [
    "#### P02.\n",
    "Incorporar una heurística en el problema de los dos cántaros de agua de la práctica anterior y realice comparativas entre los algoritmos vistos, tanto informados como ciegos."
   ]
  },
  {
   "cell_type": "code",
   "execution_count": null,
   "id": "2a43f672-c0e6-4c6d-a792-bad74e3807fb",
   "metadata": {},
   "outputs": [],
   "source": []
  }
 ],
 "metadata": {
  "kernelspec": {
   "display_name": "entornoIA2425",
   "language": "python",
   "name": "python3"
  },
  "language_info": {
   "codemirror_mode": {
    "name": "ipython",
    "version": 3
   },
   "file_extension": ".py",
   "mimetype": "text/x-python",
   "name": "python",
   "nbconvert_exporter": "python",
   "pygments_lexer": "ipython3",
   "version": "3.9.19"
  }
 },
 "nbformat": 4,
 "nbformat_minor": 5
}
