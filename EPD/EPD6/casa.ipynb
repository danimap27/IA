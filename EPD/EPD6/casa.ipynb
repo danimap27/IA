{
 "cells": [
  {
   "cell_type": "markdown",
   "id": "a988d95d-73cb-43ad-bf23-92e25802c578",
   "metadata": {},
   "source": [
    "<table><tbody><tr><th><p><img alt=\"Emblema\" src=\"https://cdn6.aptoide.com/imgs/6/f/4/6f4821daa840da8fe971445350759fe5_icon.png\" style=\"width:150px;\"></p></th><th><p><strong>Inteligencia Artificial</strong></p><p><strong>Grado en Ingeniería Informática en Sistemas de Información – Curso 2024/2025</strong></p><p><strong>ENSEÑANZAS PRÁCTICAS Y DE DESARROLLO</strong></p><h1>EPD 6: Machine Learning – Sistemas de recomendación</h1></th></tr></tbody></table>\n",
    "\n",
    "____"
   ]
  },
  {
   "cell_type": "markdown",
   "id": "442b2e88-b7fd-468e-9e3f-98f01e284eda",
   "metadata": {},
   "source": [
    "## Objetivos\n",
    "- Implementación en Python de un algoritmo de sistemas de recomendación.\n",
    "\n",
    "___\n",
    "\n",
    "## Bibliografía Básica\n",
    "- Recommender systems. Charu C. Aggarwal. Springer, 2016. Disponible online: http://pzs.dstu.dp.ua/DataMining/recom/bibl/1aggarwal_c_c_recommender_systems_the_textbook.pdf\n",
    "\n",
    "- Recommender systems handbook. Francesco Ricci, Lior Rokach, Bracha Shapira, Paul B. Kantor. Springer, 2011. Disponible online: https://www.cse.iitk.ac.in/users/nsrivast/HCC/Recommender_systems_handbook.pdf\n",
    "\n",
    "___"
   ]
  },
  {
   "cell_type": "code",
   "execution_count": 1,
   "id": "06a84914-66a2-4bbc-aec7-29a9ebb53da0",
   "metadata": {},
   "outputs": [],
   "source": [
    "import numpy as np\n",
    "import pandas as pd\n",
    "import scipy.io as sio\n",
    "import scipy.optimize as opt"
   ]
  },
  {
   "attachments": {},
   "cell_type": "markdown",
   "id": "7e21bb34-5daa-4db8-a209-0a91e60d908c",
   "metadata": {},
   "source": [
    "## Ejercicios\n",
    "Implementar un algoritmo que recomiende películas a los usuarios. Para ello, usar el fichero “ex8_movies.mat” que contiene datos de películas clasificadas por los usuarios en una escala del 1 al 5. En concreto, 943 usuarios han clasificado 1682 películas. Las películas se identifican con 10 características relativas a su contenido. El objetivo del algoritmo es predecir la puntuación que le daría un usuario a una película que no ha visto aún y recomendar a ese usuario las películas con las puntuaciones más altas.\n",
    "\n",
    "#### EJ01. \n",
    "\n",
    "Cargar el dataset y prepararlo para el algoritmo usando 2 matrices. La matriz Y almacenará las clasificaciones de las películas y la matriz R contendrá solamente valores binarios donde R(i,j) = 1 significará que el usuario j clasificó la película i y R(i,j) = 0 indicará que no la clasificó. Ambas matrices tendrán como dimensión: número de películas x número de usuarios. La media de las puntuaciones que recibe la primera película (Toy Story) debe ser aproximadamente 3.878319. Almacenar en las matrices de parámetros X y Theta los valores pre-entrenados disponibles en el fichero “ex8_movieParams.mat”. Las dimensiones de X deben ser número de películas x número de características y las de Theta número de características x número de usuarios. Compruebe las dimensiones y actúe en caso de que no coincidan.\n",
    "\n",
    "##### Solución:"
   ]
  },
  {
   "cell_type": "code",
   "execution_count": 2,
   "id": "9b6c92c2-0b74-487a-8616-d68c863de642",
   "metadata": {},
   "outputs": [
    {
     "name": "stdout",
     "output_type": "stream",
     "text": [
      "Loading movie ratings dataset.\n",
      "Shape de Y:  (1682, 943)\n",
      "Shape de R:  (1682, 943)\n",
      "\tAverage rating for the first movie (Toy Story):  3.8783185840707963 /5\n",
      "\n",
      "Shape de X:  (1682, 10)\n",
      "Shape de Theta:  (10, 943)\n"
     ]
    }
   ],
   "source": [
    "# =============== EJ1: Cargar datos ================\n",
    "print('Loading movie ratings dataset.')\n",
    "movies = sio.loadmat(\"ex8_movies.mat\")\n",
    "Y = movies['Y'] # [n_items, n_users] puntuaciones de 1-5\n",
    "R = movies['R'] # [n_items, n_users] R(i,j)=1 si usuario j puntuó pelicula i\n",
    "print(\"Shape de Y: \", Y.shape)  # [n_items, features]\n",
    "print(\"Shape de R: \", R.shape)  # [n_items, features]\n",
    "\n",
    "print('\\tAverage rating for the first movie (Toy Story): ', Y[0, np.where(R[0, :] == 1)[0]].mean(), \"/5\\n\")\n",
    "\n",
    "#  Cargar parámetros preentrenados (X, Theta, num_users, num_movies, num_features)\n",
    "    \n",
    "params_data = sio.loadmat('ex8_movieParams.mat')\n",
    "X = params_data['X']\n",
    "Theta = params_data['Theta'] \n",
    "Theta = Theta.T\n",
    "print(\"Shape de X: \", X.shape)  # [n_items, features]\n",
    "print(\"Shape de Theta: \", Theta.shape)  # [features, n_users]\n"
   ]
  },
  {
   "cell_type": "markdown",
   "id": "b56a417f-970b-44b6-951b-53daccedcb8f",
   "metadata": {},
   "source": [
    "#### EJ02.\n",
    "Implementar la función coste sin regularización para un sistema de recomendación de filtrado colaborativo en cofiCostFuncSinReg siguiendo la fórmula indicada en EB. El coste se acumula para el usuario j y la película i sólo si R(i,j)= 1. Si usa las matrices de parámetros X y Theta almacenadas en el fichero para los 4 primeros usuarios, 5 primeras películas y 3 primeros atributos/características, el coste debe ser 22.22 aproximadamente.\n",
    "\n",
    "##### Solución:"
   ]
  },
  {
   "cell_type": "code",
   "execution_count": 3,
   "id": "60f0790f-b504-43de-95f2-877d7e6f394b",
   "metadata": {},
   "outputs": [],
   "source": [
    "def cofiCostFuncSinReg(params, Y, R, num_features):\n",
    "    nPeliculas = Y.shape[0]\n",
    "    nUsuarios = Y.shape[1]\n",
    "    X = np.reshape(params[:nPeliculas * num_features], (nPeliculas, num_features), 'F')\n",
    "    Theta = np.reshape(params[nPeliculas * num_features:], (num_features, nUsuarios), 'F')\n",
    "    J = (1/2)*np.sum(np.power(np.multiply(np.dot(X, Theta) - Y, R),2))\n",
    "    return J\n",
    "\n",
    "def cofiCostFuncReg(params, Y, R, num_features, lambda_param):\n",
    "    nPeliculas = Y.shape[0]\n",
    "    nUsuarios = Y.shape[1]\n",
    "    X = np.reshape(params[:nPeliculas * num_features], (nPeliculas, num_features), 'F')\n",
    "    Theta = np.reshape(params[nPeliculas * num_features:], (num_features, nUsuarios), 'F')\n",
    "    J = (1/2)*np.sum(np.power(np.multiply(np.dot(X, Theta) - Y, R), 2))\n",
    "    J += (lambda_param/2) * (np.sum(np.square(Theta)) + np.sum(np.square(X)))\n",
    "    return J"
   ]
  },
  {
   "cell_type": "code",
   "execution_count": 4,
   "id": "a6888afc-250d-4106-8a92-8fb3d9a31774",
   "metadata": {},
   "outputs": [
    {
     "name": "stdout",
     "output_type": "stream",
     "text": [
      "Cost without regularization at loaded parameters:  22.224603725685675 (this value should be about 22.22)\n"
     ]
    }
   ],
   "source": [
    "### Subconjunto de datos para que ejecute más rápidamente\n",
    "users = 4\n",
    "movies = 5\n",
    "features = 3\n",
    "\n",
    "X_sub = X[:movies, :features]\n",
    "Theta_sub = Theta[:features, :users]\n",
    "Y_sub = Y[:movies, :users]\n",
    "R_sub = R[:movies, :users]\n",
    "\n",
    "params = np.hstack((np.ravel(X_sub, order='F'), np.ravel(Theta_sub, order='F'))) # Desenrollar: primero X_sub luego Theta_sub\n",
    "J = cofiCostFuncSinReg(params, Y_sub, R_sub, features)\n",
    "print(\"Cost without regularization at loaded parameters: \", J, \"(this value should be about 22.22)\")\n"
   ]
  },
  {
   "attachments": {},
   "cell_type": "markdown",
   "id": "1b0e674b-e4ea-4267-b9c1-5c1251a1ad9b",
   "metadata": {},
   "source": [
    "#### EJ03.\n",
    "Implementar la función gradiente sin regularización en cofiGradientFuncSinReg. Usar la función auxiliar checkNNGradientsSinReg.py para verificar que los gradientes están bien calculados.\n",
    "\n",
    "##### Solución:"
   ]
  },
  {
   "cell_type": "code",
   "execution_count": 5,
   "id": "44c16412-2ad2-49b8-a828-90b2f5725cd5",
   "metadata": {},
   "outputs": [],
   "source": [
    "def cofiGradientFuncSinReg(params, Y, R, num_features):\n",
    "    nPeliculas = Y.shape[0]\n",
    "    nUsuarios = Y.shape[1]\n",
    "    X = np.reshape(params[:nPeliculas * num_features], (nPeliculas, num_features), 'F')\n",
    "    Theta = np.reshape(params[nPeliculas * num_features:], (num_features, nUsuarios), 'F')\n",
    "        \n",
    "    error = np.multiply(np.dot(X, Theta) - Y, R)\n",
    "    \n",
    "    ThetaGrad = np.dot(X.T, error)\n",
    "    XGrad = np.dot(error, Theta.T)\n",
    "    \n",
    "    grad = np.hstack((np.ravel(XGrad, order='F'), np.ravel(ThetaGrad, order='F')))\n",
    "    \n",
    "    return grad"
   ]
  },
  {
   "cell_type": "code",
   "execution_count": 6,
   "id": "8edcfe2e-f92e-4a9e-87f0-d756bdaba8d6",
   "metadata": {},
   "outputs": [],
   "source": [
    "def computeNumericalGradientSinReg(X,Theta, Y, R, num_features):\n",
    "    mygrad = np.zeros(Theta.size + X.size)\n",
    "    perturb = np.zeros(Theta.size + X.size)\n",
    "    myeps = 0.0001\n",
    "    params = np.concatenate((np.ravel(X, order='F'), np.ravel(Theta, order='F')))\n",
    "\n",
    "    for i in range(np.size(Theta)+np.size(X)):\n",
    "        # Set perturbation vector\n",
    "        perturb[i] = myeps\n",
    "        params_plus = params + perturb\n",
    "        params_minus = params - perturb\n",
    "        cost_high = cofiCostFuncSinReg(params_plus, Y, R, num_features)\n",
    "        cost_low = cofiCostFuncSinReg(params_minus, Y, R, num_features)\n",
    "\n",
    "        # Compute Numerical Gradient\n",
    "        mygrad[i] = (cost_high - cost_low) / float(2 * myeps)\n",
    "        perturb[i] = 0\n",
    "\n",
    "    return mygrad\n",
    "    \n",
    "def checkNNGradientsSinReg():\n",
    "    #Create small problem\n",
    "    X_t = np.random.rand(4, 3)\n",
    "    Theta_t = np.random.rand(5, 3)\n",
    "\n",
    "    #Zap out most entries\n",
    "    Y = X_t @ Theta_t.T\n",
    "    dim = Y.shape\n",
    "    aux = np.random.rand(*dim)\n",
    "    Y[aux > 0.5] = 0\n",
    "    R = np.zeros((Y.shape))\n",
    "    R[Y != 0] = 1\n",
    "\n",
    "    #Run Gradient Checking\n",
    "    dim_X_t = X_t.shape\n",
    "    dim_Theta_t = Theta_t.shape\n",
    "    X = np.random.randn(*dim_X_t)\n",
    "    Theta = np.random.randn(*dim_Theta_t)\n",
    "    num_users = Y.shape[1]\n",
    "    num_movies = Y.shape[0]\n",
    "    num_features = Theta_t.shape[1]\n",
    "\n",
    "    params = np.concatenate((np.ravel(X,order='F'), np.ravel(Theta,order='F')))\n",
    "\n",
    "    # Calculo gradiente mediante aproximación numérica\n",
    "    mygrad = computeNumericalGradientSinReg(X, Theta, Y, R, num_features)\n",
    "\n",
    "    #Calculo gradiente\n",
    "    grad = cofiGradientFuncSinReg(params, Y, R, num_features)\n",
    "\n",
    "    # Visually examine the two gradient computations.  The two columns\n",
    "    # you get should be very similar.\n",
    "    df = pd.DataFrame(mygrad,grad)\n",
    "    print(df)\n",
    "\n",
    "    # Evaluate the norm of the difference between two solutions.\n",
    "    # If you have a correct implementation, and assuming you used EPSILON = 0.0001\n",
    "    # in computeNumericalGradient.m, then diff below should be less than 1e-9\n",
    "    diff = np.linalg.norm((mygrad-grad))/np.linalg.norm((mygrad+grad))\n",
    "\n",
    "    print('If your gradient implementation is correct, then the differences will be small (less than 1e-9):' , diff)\n",
    "    "
   ]
  },
  {
   "cell_type": "code",
   "execution_count": 7,
   "id": "65323a3f-3b1c-4aa0-8dd6-07352f4234ee",
   "metadata": {},
   "outputs": [
    {
     "name": "stdout",
     "output_type": "stream",
     "text": [
      "Gradient without regularization at loaded parameters: \n",
      " [ -2.52899165  -0.56819597  -0.83240713  -0.38358278  -0.80378006\n",
      "   7.57570308   3.35265031   4.91163297   2.26333698   4.74271842\n",
      "  -1.89979026  -0.52339845  -0.76677878  -0.35334048  -0.74040871\n",
      " -10.5680202    4.62776019  -7.16004443  -3.05099006   1.16441367\n",
      "  -3.47410789   0.           0.           0.           0.\n",
      "   0.           0.        ]\n",
      "                  0\n",
      "-1.559586 -1.559586\n",
      " 0.919743  0.919743\n",
      "-2.705700 -2.705700\n",
      "-4.806545 -4.806545\n",
      " 2.705937  2.705937\n",
      "-4.532276 -4.532276\n",
      " 4.445120  4.445120\n",
      " 8.748818  8.748818\n",
      " 1.191697  1.191697\n",
      " 0.234830  0.234830\n",
      " 2.142682  2.142682\n",
      " 2.427612  2.427612\n",
      " 4.822360  4.822360\n",
      "-2.755603 -2.755603\n",
      "-5.042536 -5.042536\n",
      "-2.012012 -2.012012\n",
      " 1.244494  1.244494\n",
      "-0.313439 -0.313439\n",
      " 0.064707  0.064707\n",
      "-0.050027 -0.050027\n",
      "-0.092127 -0.092127\n",
      " 0.040891  0.040891\n",
      "-0.022455 -0.022455\n",
      " 0.040383  0.040383\n",
      "-0.532557 -0.532557\n",
      " 0.411738  0.411738\n",
      " 0.758229  0.758229\n",
      "If your gradient implementation is correct, then the differences will be small (less than 1e-9): 1.0060148438012283e-12\n"
     ]
    }
   ],
   "source": [
    "grad = cofiGradientFuncSinReg(params, Y_sub, R_sub, features)\n",
    "print(\"Gradient without regularization at loaded parameters: \\n\", grad)\n",
    "\n",
    "checkNNGradientsSinReg()\n"
   ]
  },
  {
   "attachments": {},
   "cell_type": "markdown",
   "id": "65c448f6-f52a-41d0-a181-e3beefd65342",
   "metadata": {},
   "source": [
    "#### EJ04.\n",
    "Implementar la función coste y la función gradiente con regularización en cofiCostFuncReg y cofiGradientFuncReg respectivamente. Se debe incluir el parámetro lambda inicializado a 1.5. La función coste debe devolver un coste de 31.34 aproximadamente si usa las matrices de parámetros X y Theta almacenadas en el fichero “ex8_movieParams.mat” para los 4 primeros usuarios, 5 primeras películas y 3 primeros atributos. Usar la función auxiliar checkNNGradientsReg con el parámetro lambda inicializado a 1.5 para verificar que los gradientes están bien calculados.\n",
    "\n",
    "##### Solución:"
   ]
  },
  {
   "cell_type": "code",
   "execution_count": null,
   "id": "942db1a0-29fc-4930-8b6d-afefc1cac833",
   "metadata": {},
   "outputs": [],
   "source": [
    "\n",
    "    \n",
    "    "
   ]
  },
  {
   "cell_type": "code",
   "execution_count": 8,
   "id": "db4204e8-a8f5-4971-b43a-2a28ca72c18f",
   "metadata": {},
   "outputs": [],
   "source": [
    "def cofiGradientFuncReg(params, Y, R, num_features, lambda_param):\n",
    "    nPeliculas = Y.shape[0]\n",
    "    nUsuarios = Y.shape[1]\n",
    "    X = np.reshape(params[:nPeliculas * num_features], (nPeliculas, num_features), 'F')\n",
    "    Theta = np.reshape(params[nPeliculas * num_features:], (num_features, nUsuarios), 'F')\n",
    "    \n",
    "    error = np.multiply(np.dot(X, Theta) - Y, R)\n",
    "    ThetaGrad = np.dot(X.T, error) + (lambda_param*Theta)\n",
    "    XGrad = np.dot(error, Theta.T) + (lambda_param*X)\n",
    "    \n",
    "    grad = np.hstack((np.ravel(XGrad, order='F'), np.ravel(ThetaGrad, order='F')))\n",
    "    return grad\n"
   ]
  },
  {
   "cell_type": "code",
   "execution_count": 9,
   "id": "0620db22-bf15-443d-b737-7d48a89c53d5",
   "metadata": {},
   "outputs": [],
   "source": [
    "def computeNumericalGradientReg(X,Theta, Y, R, num_features, lambda_param):\n",
    "    mygrad = np.zeros(Theta.size + X.size)\n",
    "    perturb = np.zeros(Theta.size + X.size)\n",
    "    myeps = 0.0001\n",
    "    params = np.concatenate((np.ravel(X, order='F'), np.ravel(Theta, order='F')))\n",
    "\n",
    "    for i in range(np.size(Theta)+np.size(X)):\n",
    "        # Set perturbation vector\n",
    "        perturb[i] = myeps\n",
    "        params_plus = params + perturb\n",
    "        params_minus = params - perturb\n",
    "        cost_high = cofiCostFuncReg(params_plus, Y, R, num_features, lambda_param)\n",
    "        cost_low = cofiCostFuncReg(params_minus, Y, R, num_features, lambda_param)\n",
    "\n",
    "        # Compute Numerical Gradient\n",
    "        mygrad[i] = (cost_high - cost_low) / float(2 * myeps)\n",
    "        perturb[i] = 0\n",
    "\n",
    "    return mygrad\n",
    "    \n",
    "def checkNNGradientsReg(lambda_param):\n",
    "    #Create small problem\n",
    "    X_t = np.random.rand(4, 3)\n",
    "    Theta_t = np.random.rand(5, 3)\n",
    "\n",
    "    #Zap out most entries\n",
    "    Y = X_t @ Theta_t.T\n",
    "    dim = Y.shape\n",
    "    aux = np.random.rand(*dim)\n",
    "    Y[aux > 0.5] = 0\n",
    "    R = np.zeros((Y.shape))\n",
    "    R[Y != 0] = 1\n",
    "\n",
    "    #Run Gradient Checking\n",
    "    dim_X_t = X_t.shape\n",
    "    dim_Theta_t = Theta_t.shape\n",
    "    X = np.random.randn(*dim_X_t)\n",
    "    Theta = np.random.randn(*dim_Theta_t)\n",
    "    num_users = Y.shape[1]\n",
    "    num_movies = Y.shape[0]\n",
    "    num_features = Theta_t.shape[1]\n",
    "\n",
    "    params = np.concatenate((np.ravel(X,order='F'), np.ravel(Theta,order='F')))\n",
    "\n",
    "    # Calculo gradiente mediante aproximación numérica\n",
    "    mygrad = computeNumericalGradientReg(X, Theta, Y, R, num_features, lambda_param)\n",
    "\n",
    "    #Calculo gradiente\n",
    "    grad = cofiGradientFuncReg(params, Y, R, num_features, lambda_param)\n",
    "\n",
    "    # Visually examine the two gradient computations.  The two columns\n",
    "    # you get should be very similar.\n",
    "    df = pd.DataFrame(mygrad,grad)\n",
    "    print(df)\n",
    "\n",
    "    # Evaluate the norm of the difference between two solutions.\n",
    "    # If you have a correct implementation, and assuming you used EPSILON = 0.0001\n",
    "    # in computeNumericalGradient.m, then diff below should be less than 1e-9\n",
    "    diff = np.linalg.norm((mygrad-grad))/np.linalg.norm((mygrad+grad))\n",
    "\n",
    "    print('If your gradient implementation is correct, then the differences will be small (less than 1e-9):' , diff)\n",
    "    "
   ]
  },
  {
   "cell_type": "code",
   "execution_count": 10,
   "id": "ae510547-fb1a-4276-be62-a9dbd43ea9c5",
   "metadata": {},
   "outputs": [
    {
     "name": "stdout",
     "output_type": "stream",
     "text": [
      "\n",
      "\n",
      "Cost with regularization at loaded parameters:  31.34405624427422 (this value should be about 31.34)\n",
      "Gradient with regularization at loaded parameters: \n",
      " [ -0.95596339   0.60308088   0.12985616   0.29684395   0.60252677\n",
      "   6.97535514   2.77421145   4.0898522    1.06300933   4.90185327\n",
      "  -0.10861109   0.25839822  -0.89247334   0.66738144  -0.19747928\n",
      " -10.13985478   2.10136256  -6.76563628  -2.29347024   0.48244098\n",
      "  -2.99791422  -0.64787484  -0.71820673   1.27006666   1.09289758\n",
      "  -0.40784086   0.49026541]\n",
      "                    0\n",
      " 0.912839    0.912839\n",
      "-3.232312   -3.232312\n",
      "-0.484110   -0.484110\n",
      "-4.566465   -4.566465\n",
      " 6.097694    6.097694\n",
      " 2.679610    2.679610\n",
      "-4.385898   -4.385898\n",
      "-4.551102   -4.551102\n",
      "-1.507087   -1.507087\n",
      "-3.836308   -3.836308\n",
      " 1.403378    1.403378\n",
      " 3.445399    3.445399\n",
      " 0.415497    0.415497\n",
      "-1.799379   -1.799379\n",
      " 2.563387    2.563387\n",
      " 1.260677    1.260677\n",
      " 1.234499    1.234499\n",
      " 1.628735    1.628735\n",
      "-0.092972   -0.092972\n",
      "-0.178646   -0.178646\n",
      " 0.415238    0.415238\n",
      " 5.505956    5.505956\n",
      " 6.124464    6.124464\n",
      " 0.346731    0.346731\n",
      " 0.202131    0.202131\n",
      " 12.291751  12.291751\n",
      "-2.976104   -2.976104\n",
      "If your gradient implementation is correct, then the differences will be small (less than 1e-9): 3.06593123775343e-12\n"
     ]
    }
   ],
   "source": [
    "# Evaluate cost function and gradient function, both with regularization\n",
    "lambda_param = 1.5\n",
    "J = cofiCostFuncReg(params, Y_sub, R_sub, features, lambda_param)\n",
    "print(\"\\n\\nCost with regularization at loaded parameters: \", J, \"(this value should be about 31.34)\")\n",
    "\n",
    "grad = cofiGradientFuncReg(params, Y_sub, R_sub, features, lambda_param)\n",
    "print(\"Gradient with regularization at loaded parameters: \\n\", grad)\n",
    "checkNNGradientsReg(lambda_param)\n"
   ]
  },
  {
   "cell_type": "markdown",
   "id": "4b7407da-9182-4529-b89d-256b05b300ae",
   "metadata": {},
   "source": [
    "#### EJ05.\n",
    "Inicializar de forma random con valores pequeños tanto la matriz X como la matriz Theta para todo el conjunto de datos, utilize la función np.random.rand() indicando las dimensiones en los parámetros de entrada. A continuación, entrenar con regularización para obtener los parámetros óptimos X y Theta usando la función fmin_cg de la librería scipy.optimize con 200 iteraciones y lambda con valor 1.5.\n",
    "\n",
    "##### Solución:"
   ]
  },
  {
   "cell_type": "code",
   "execution_count": 11,
   "id": "aebbd666-43dc-4be2-b338-2962623018ed",
   "metadata": {},
   "outputs": [
    {
     "name": "stdout",
     "output_type": "stream",
     "text": [
      "         Current function value: 32978.182602\n",
      "         Iterations: 200\n",
      "         Function evaluations: 295\n",
      "         Gradient evaluations: 295\n"
     ]
    },
    {
     "name": "stderr",
     "output_type": "stream",
     "text": [
      "c:\\Users\\danit\\anaconda3\\envs\\entornoIA2425\\lib\\site-packages\\scipy\\optimize\\_optimize.py:1659: OptimizeWarning: Maximum number of iterations has been exceeded.\n",
      "  res = _minimize_cg(f, x0, args, fprime, callback=callback, c1=c1, c2=c2,\n"
     ]
    }
   ],
   "source": [
    "# Useful Values\n",
    "movies = Y.shape[0]  # 1682\n",
    "users = Y.shape[1]  # 943\n",
    "features = 10\n",
    "lambda_param = 1.5\n",
    "maxiter = 200\n",
    "\n",
    "# Inicialización de X y Theta\n",
    "X = np.random.rand(movies, features) * (2*0.12)\n",
    "Theta = np.random.rand(features, users) * (2*0.12)\n",
    "params = np.hstack((np.ravel(X, order='F'), np.ravel(Theta, order='F')))# Desenrollar: primero X luego Theta\n",
    "# Algoritmo de optimización\n",
    "fmin_1 = opt.fmin_cg(maxiter=maxiter, f=cofiCostFuncReg, x0=params, fprime=cofiGradientFuncReg,\n",
    "                  args=(Y, R, features, lambda_param))\n",
    "# Enrollar el resultado\n",
    "X_fmin = np.reshape(fmin_1[:movies * features], (movies, features), 'F')\n",
    "Theta_fmin = np.reshape(fmin_1[movies * features:], (features, users), 'F')\n"
   ]
  },
  {
   "cell_type": "markdown",
   "id": "be05b590-102a-4e11-9be7-68a33b2e9d9e",
   "metadata": {},
   "source": [
    "#### EJ06.\n",
    "Después del entrenamiento, conseguir la matriz de predicciones. Además, imprimir por pantalla la recomendación de las 10 películas con mejores puntuaciones para el usuario 2. Deben ser películas que no estuviesen previamente puntuadas por dicho usuario, para ello use np.where() con la correspondiente condición.\n",
    "\n",
    "##### Solución:"
   ]
  },
  {
   "cell_type": "code",
   "execution_count": 12,
   "id": "aac0b3d3-f159-473a-a1b2-d4d96d2e0fbb",
   "metadata": {},
   "outputs": [
    {
     "name": "stdout",
     "output_type": "stream",
     "text": [
      "Top 10 movie predictions:\n",
      "Predicted rating of 5.35242636292428 for movie Clerks (1994).\n",
      "Predicted rating of 5.31177711343657 for movie Big Lebowski, The (1998).\n",
      "Predicted rating of 4.942562290155292 for movie Three Colors: White (1994).\n",
      "Predicted rating of 4.856147622837372 for movie Flirting With Disaster (1996).\n",
      "Predicted rating of 4.8403278790650655 for movie Last Supper, The (1995).\n",
      "Predicted rating of 4.835704659714779 for movie Deceiver (1997).\n",
      "Predicted rating of 4.659218531210406 for movie Strange Days (1995).\n",
      "Predicted rating of 4.602072227460943 for movie Hard Eight (1996).\n",
      "Predicted rating of 4.593308206599591 for movie Trees Lounge (1996).\n",
      "Predicted rating of 4.5835554313094935 for movie Beavis and Butt-head Do America (1996).\n"
     ]
    },
    {
     "name": "stderr",
     "output_type": "stream",
     "text": [
      "C:\\Users\\danit\\AppData\\Local\\Temp\\ipykernel_18540\\1511940430.py:19: DeprecationWarning: Conversion of an array with ndim > 0 to a scalar is deprecated, and will error in future. Ensure you extract a single element from your array before performing this operation. (Deprecated NumPy 1.25.)\n",
      "  j = int(idx[i])\n",
      "C:\\Users\\danit\\AppData\\Local\\Temp\\ipykernel_18540\\1511940430.py:20: DeprecationWarning: Conversion of an array with ndim > 0 to a scalar is deprecated, and will error in future. Ensure you extract a single element from your array before performing this operation. (Deprecated NumPy 1.25.)\n",
      "  print('Predicted rating of {0} for movie {1}.'.format(str(float(res_user[j])), movie_idx[j]))\n"
     ]
    }
   ],
   "source": [
    "predictions = np.dot(X_fmin, Theta_fmin)\n",
    "# Solo el usuario j\n",
    "j = 2\n",
    "res_user = np.zeros((movies, 1))\n",
    "pred_userj = predictions[:, j] # Seleccionar el usuario j\n",
    "res_user = np.where(R[:, j] == 0, pred_userj, 0).reshape(-1, 1)\n",
    "# Para cada película: A las que tenían valor previo le ponemos un 0 y a las que hemos predicho el valor de su predicción\n",
    "idx = np.argsort(res_user, axis=0)[::-1] # Ordenar por las predicciones de menor a mayor y coger sus índice. [::-1] significa que le damos la vuelta a la salida: es decir lo colocamos de mayor a menor\n",
    "\n",
    "# Leer el fichero con los nombres de cada película\n",
    "movie_idx = {}\n",
    "f = open('movie_ids.txt',encoding = 'ISO-8859-1')\n",
    "for line in f:\n",
    "    tokens = line.split(' ')\n",
    "    tokens[-1] = tokens[-1][:-1]\n",
    "    movie_idx[int(tokens[0]) - 1] = ' '.join(tokens[1:])\n",
    "print(\"Top 10 movie predictions:\")\n",
    "for i in range(10):\n",
    "    j = int(idx[i])\n",
    "    print('Predicted rating of {0} for movie {1}.'.format(str(float(res_user[j])), movie_idx[j]))\n"
   ]
  },
  {
   "cell_type": "code",
   "execution_count": null,
   "id": "e9e04bf8",
   "metadata": {},
   "outputs": [],
   "source": []
  }
 ],
 "metadata": {
  "kernelspec": {
   "display_name": "entornoIA2425",
   "language": "python",
   "name": "python3"
  },
  "language_info": {
   "codemirror_mode": {
    "name": "ipython",
    "version": 3
   },
   "file_extension": ".py",
   "mimetype": "text/x-python",
   "name": "python",
   "nbconvert_exporter": "python",
   "pygments_lexer": "ipython3",
   "version": "3.9.19"
  }
 },
 "nbformat": 4,
 "nbformat_minor": 5
}
