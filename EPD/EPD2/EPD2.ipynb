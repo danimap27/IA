{
 "cells": [
  {
   "cell_type": "markdown",
   "id": "697c7317-2879-42de-8dc8-8107feaac0c6",
   "metadata": {},
   "source": [
    "# INTELIGENCIA ARTIFICIAL 2024/2025\n",
    "## EPD02: Machine Learning – Regresión Lineal univariable"
   ]
  },
  {
   "cell_type": "markdown",
   "id": "6a6208ae-eb51-4c97-909e-5bc31899981a",
   "metadata": {},
   "source": [
    "### Importación de librerías"
   ]
  },
  {
   "cell_type": "code",
   "execution_count": 1,
   "id": "e3bc3e06-00ea-482c-9b3c-d149919ca9c6",
   "metadata": {},
   "outputs": [],
   "source": [
    "import numpy as np\n",
    "import math\n",
    "import time\n",
    "import matplotlib.pyplot as plt\n",
    "from sklearn import datasets\n",
    "import seaborn as sns\n",
    "import pandas as pd\n",
    "import sklearn.linear_model\n",
    "import warnings\n",
    "warnings.simplefilter(action='ignore', category=FutureWarning)"
   ]
  },
  {
   "cell_type": "code",
   "execution_count": 2,
   "id": "ffc4095c-e31c-47d7-8ef3-89ceef4ddd70",
   "metadata": {},
   "outputs": [
    {
     "ename": "ModuleNotFoundError",
     "evalue": "No module named 'readFile'",
     "output_type": "error",
     "traceback": [
      "\u001b[1;31m---------------------------------------------------------------------------\u001b[0m",
      "\u001b[1;31mModuleNotFoundError\u001b[0m                       Traceback (most recent call last)",
      "Cell \u001b[1;32mIn[2], line 3\u001b[0m\n\u001b[0;32m      1\u001b[0m \u001b[38;5;28;01mfrom\u001b[39;00m \u001b[38;5;21;01mplotData\u001b[39;00m \u001b[38;5;28;01mimport\u001b[39;00m plotData\n\u001b[0;32m      2\u001b[0m \u001b[38;5;28;01mfrom\u001b[39;00m \u001b[38;5;21;01mcomputeCost\u001b[39;00m \u001b[38;5;28;01mimport\u001b[39;00m computeCost\n\u001b[1;32m----> 3\u001b[0m \u001b[38;5;28;01mfrom\u001b[39;00m \u001b[38;5;21;01mreadFile\u001b[39;00m \u001b[38;5;28;01mimport\u001b[39;00m readFile\n\u001b[0;32m      4\u001b[0m \u001b[38;5;28;01mfrom\u001b[39;00m \u001b[38;5;21;01mgradientDescent\u001b[39;00m \u001b[38;5;28;01mimport\u001b[39;00m gradientDescent\n\u001b[0;32m      5\u001b[0m \u001b[38;5;28;01mfrom\u001b[39;00m \u001b[38;5;21;01mplotIterationsVsCost\u001b[39;00m \u001b[38;5;28;01mimport\u001b[39;00m plotIterationsVsCost\n",
      "\u001b[1;31mModuleNotFoundError\u001b[0m: No module named 'readFile'"
     ]
    }
   ],
   "source": [
    "from plotData import plotData\n",
    "from computeCost import computeCost\n",
    "from readFile import readFile\n",
    "from gradientDescent import gradientDescent\n",
    "from plotIterationsVsCost import plotIterationsVsCost"
   ]
  },
  {
   "cell_type": "markdown",
   "id": "3df9b9c3-a9ab-4c9d-a5f8-481aa4cd26e8",
   "metadata": {},
   "source": [
    "### Solución Ejercicio 01"
   ]
  },
  {
   "cell_type": "code",
   "execution_count": null,
   "id": "54168ab5-ff6e-4cb5-af53-530321dc35a8",
   "metadata": {},
   "outputs": [],
   "source": [
    "X, y = readFile(\"ex1data1.txt\")\n",
    "plotData(X,y)"
   ]
  },
  {
   "cell_type": "markdown",
   "id": "cc83ceb4-f5d5-4597-9893-78090e89b24a",
   "metadata": {},
   "source": [
    "### Solución Ejercicio 02"
   ]
  },
  {
   "cell_type": "code",
   "execution_count": null,
   "id": "bff0859e-6d11-4c56-811c-6e3e27e656fe",
   "metadata": {},
   "outputs": [],
   "source": [
    "theta = 0\n",
    "J = computeCost(X,y,theta)\n",
    "print(\"\\nEj2:\\n\\tEl coste con theta \", theta, \" es \", J)"
   ]
  },
  {
   "cell_type": "markdown",
   "id": "de08c40a-dbac-4528-bb19-ab8be5e6095d",
   "metadata": {},
   "source": [
    "### Solución Ejercicio 03"
   ]
  },
  {
   "cell_type": "code",
   "execution_count": null,
   "id": "209859be-e3c5-490c-80f0-728a8b17798a",
   "metadata": {},
   "outputs": [],
   "source": [
    "alpha = 0.0002\n",
    "nIter = 250\n",
    "historico, theta = gradientDescent(X, y, theta, alpha, nIter)\n",
    "print(\"\\nEJ3:\\n\\tEl valor de theta con \",nIter,\" da un theta de \",theta)\n",
    "print(\"\\n\\tCon un coste de \",computeCost(X,y,theta))\n",
    "plotIterationsVsCost(historico)"
   ]
  },
  {
   "cell_type": "markdown",
   "id": "edfd61af-d700-486a-83f4-5b9ed28015eb",
   "metadata": {},
   "source": [
    "### Solución Ejercicio 04"
   ]
  },
  {
   "cell_type": "code",
   "execution_count": null,
   "id": "bfc03de0-dd4b-4686-9e17-7e4c2cb2f0f2",
   "metadata": {},
   "outputs": [],
   "source": [
    "poblacion1 = np.array([1, 3.5])\n",
    "p1 = np.dot(poblacion1, theta)\n",
    "print(\"\\nEJ4:\\n\\tLa prediccion con 3.500 de poblacion es \",p1)"
   ]
  },
  {
   "cell_type": "code",
   "execution_count": null,
   "id": "a4c2c313-3cc5-469b-b908-4bb8be0f2c6d",
   "metadata": {},
   "outputs": [],
   "source": []
  }
 ],
 "metadata": {
  "kernelspec": {
   "display_name": "Python 3 (ipykernel)",
   "language": "python",
   "name": "python3"
  },
  "language_info": {
   "codemirror_mode": {
    "name": "ipython",
    "version": 3
   },
   "file_extension": ".py",
   "mimetype": "text/x-python",
   "name": "python",
   "nbconvert_exporter": "python",
   "pygments_lexer": "ipython3",
   "version": "3.9.19"
  }
 },
 "nbformat": 4,
 "nbformat_minor": 5
}
